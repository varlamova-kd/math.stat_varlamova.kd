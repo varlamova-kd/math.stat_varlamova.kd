{
 "cells": [
  {
   "cell_type": "code",
   "execution_count": 168,
   "id": "6649053b",
   "metadata": {},
   "outputs": [],
   "source": [
    "import numpy as np\n",
    "from scipy.stats import uniform, norm, f, t\n",
    "from sklearn.linear_model import LinearRegression"
   ]
  },
  {
   "cell_type": "code",
   "execution_count": 169,
   "id": "b31886f7",
   "metadata": {},
   "outputs": [],
   "source": [
    "a = np.array([83,85])\n",
    "b = np.array([84,85,85,86,86,87])\n",
    "c = np.array([86,87,87,87,88,88,88,88,88,89,90])\n",
    "d = np.array([89,90,90,91])\n",
    "e = np.array([90,92])"
   ]
  },
  {
   "cell_type": "code",
   "execution_count": 170,
   "id": "30b24c0f",
   "metadata": {},
   "outputs": [],
   "source": [
    "# преобразуем в выборку с одним признаком (возрастом) и одномерным таргетом\n",
    "y = np.array([83,85,84,85,85,86,86,87,86,87,87,87,88,88,88,88,88,89,90,89,90,90,91,90,92])\n",
    "kols = np.array([len(a), len(b), len(c), len(d), len(e)])\n",
    "N = np.sum(kols)"
   ]
  },
  {
   "cell_type": "markdown",
   "id": "06b40945",
   "metadata": {},
   "source": [
    "## a)"
   ]
  },
  {
   "cell_type": "code",
   "execution_count": 171,
   "id": "b6cf5391",
   "metadata": {},
   "outputs": [],
   "source": [
    "psi = np.zeros((5, N))\n",
    "for k in range(kols[0]):\n",
    "    psi[0, k] = 1\n",
    "for i in range(1,5):\n",
    "    for j in range(np.sum(kols[:i]), np.sum(kols[:i])+kols[i]):\n",
    "        psi[i,j] = 1\n",
    "psi = psi.T"
   ]
  },
  {
   "cell_type": "code",
   "execution_count": 178,
   "id": "e465a05d",
   "metadata": {},
   "outputs": [
    {
     "name": "stdout",
     "output_type": "stream",
     "text": [
      "Коэффициент детерминации: 0.81\n"
     ]
    }
   ],
   "source": [
    "TSS = np.sum(np.square(y - np.mean(y)))\n",
    "F_inv = np.linalg.inv(np.diag(kols))\n",
    "beta = F_inv@psi.T@y\n",
    "RSS = (y - psi@beta).T @ (y - psi@beta)\n",
    "R_sq = 1 - RSS/TSS\n",
    "print('Коэффициент детерминации:', round(R_sq,2))"
   ]
  },
  {
   "cell_type": "code",
   "execution_count": 179,
   "id": "068b5e0d",
   "metadata": {},
   "outputs": [
    {
     "name": "stdout",
     "output_type": "stream",
     "text": [
      "p_value: 0.0001\n"
     ]
    }
   ],
   "source": [
    "delta_est = R_sq**2/(1-R_sq**2) * (N - 5)/(5-1)\n",
    "p_value = 1 - f.cdf(np.abs(delta_est), 5-1, N-1)\n",
    "print('p_value:', round(p_value,4))"
   ]
  },
  {
   "cell_type": "markdown",
   "id": "b72529ee",
   "metadata": {},
   "source": [
    "=> отвергаем гипотезу о незначимости коэффициента детерминации (считаем, что возраст влияет на содержание иммуноглобулина)"
   ]
  },
  {
   "cell_type": "markdown",
   "id": "1a0f36db",
   "metadata": {},
   "source": [
    "## b)"
   ]
  },
  {
   "cell_type": "code",
   "execution_count": 174,
   "id": "c8268950",
   "metadata": {},
   "outputs": [
    {
     "data": {
      "text/plain": [
       "array([84.        , 85.5       , 87.81818182, 90.        , 91.        ])"
      ]
     },
     "execution_count": 174,
     "metadata": {},
     "output_type": "execute_result"
    }
   ],
   "source": [
    "mid = np.array([np.mean(a),np.mean(b),np.mean(c),np.mean(d),np.mean(e)])\n",
    "mid"
   ]
  },
  {
   "cell_type": "code",
   "execution_count": 175,
   "id": "bd625bb6",
   "metadata": {},
   "outputs": [
    {
     "name": "stdout",
     "output_type": "stream",
     "text": [
      "нет оснований отвергнуть гипотезу о том, , что среднее в группе1 равно среднему в группе2\n",
      "отвергаем гипотезу о том, что среднее в группе1 равно среднему в группе3\n",
      "отвергаем гипотезу о том, что среднее в группе1 равно среднему в группе4\n",
      "отвергаем гипотезу о том, что среднее в группе1 равно среднему в группе5\n",
      "отвергаем гипотезу о том, что среднее в группе2 равно среднему в группе3\n",
      "отвергаем гипотезу о том, что среднее в группе2 равно среднему в группе4\n",
      "отвергаем гипотезу о том, что среднее в группе2 равно среднему в группе5\n",
      "отвергаем гипотезу о том, что среднее в группе3 равно среднему в группе4\n",
      "отвергаем гипотезу о том, что среднее в группе3 равно среднему в группе5\n",
      "нет оснований отвергнуть гипотезу о том, , что среднее в группе4 равно среднему в группе5\n"
     ]
    }
   ],
   "source": [
    "p_values = np.zeros((5,5))\n",
    "for i in range(5):\n",
    "    for j in range(5):\n",
    "        if i<j:\n",
    "            delta = (mid[i]-mid[j]) / np.sqrt(RSS * (F_inv[i,i]+F_inv[j,j])) * (N-5)**0.5\n",
    "            p_values[i,j] = 2*(1 - t.cdf(abs(delta), N-5))\n",
    "            if p_values[i,j] < 0.05:\n",
    "                print('отвергаем гипотезу о том, что среднее в группе', i+1, ' равно среднему в группе', j+1, sep='')\n",
    "            else:\n",
    "                print('нет оснований отвергнуть гипотезу о том, , что среднее в группе', i+1, ' равно среднему в группе', j+1, sep='')"
   ]
  }
 ],
 "metadata": {
  "kernelspec": {
   "display_name": "Python 3 (ipykernel)",
   "language": "python",
   "name": "python3"
  },
  "language_info": {
   "codemirror_mode": {
    "name": "ipython",
    "version": 3
   },
   "file_extension": ".py",
   "mimetype": "text/x-python",
   "name": "python",
   "nbconvert_exporter": "python",
   "pygments_lexer": "ipython3",
   "version": "3.9.7"
  }
 },
 "nbformat": 4,
 "nbformat_minor": 5
}
