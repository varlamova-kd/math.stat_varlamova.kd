{
 "cells": [
  {
   "cell_type": "code",
   "execution_count": 74,
   "id": "84fd19b7",
   "metadata": {},
   "outputs": [],
   "source": [
    "import numpy as np\n",
    "import matplotlib.pyplot as plt\n",
    "from scipy.stats import uniform\n",
    "import random"
   ]
  },
  {
   "cell_type": "code",
   "execution_count": 141,
   "id": "37ed878f",
   "metadata": {},
   "outputs": [],
   "source": [
    "beta = 0.95\n",
    "n = 100\n",
    "teta = 1\n",
    "x = np.random.uniform(teta,2*teta,n)"
   ]
  },
  {
   "cell_type": "code",
   "execution_count": 145,
   "id": "6499aafc",
   "metadata": {},
   "outputs": [
    {
     "data": {
      "text/plain": [
       "array([1.92327258, 1.2292426 , 1.70495078, 1.63269585, 1.21617192,\n",
       "       1.40290688, 1.07536381, 1.11012456, 1.88875188, 1.82467627,\n",
       "       1.21628508, 1.8740533 , 1.17336   , 1.75916815, 1.70747012,\n",
       "       1.83008544, 1.31192944, 1.92453395, 1.37731097, 1.20151157,\n",
       "       1.74098199, 1.93659249, 1.30624768, 1.76788652, 1.42588758,\n",
       "       1.68743294, 1.93644685, 1.91563825, 1.84074454, 1.6255512 ,\n",
       "       1.40346674, 1.46124375, 1.69495379, 1.55872614, 1.84307812,\n",
       "       1.81350534, 1.50781681, 1.92908696, 1.01493892, 1.03075294,\n",
       "       1.7034301 , 1.97281413, 1.31599044, 1.93771498, 1.66644616,\n",
       "       1.45113824, 1.83745465, 1.32709307, 1.37131418, 1.25406604,\n",
       "       1.22569817, 1.7217473 , 1.68564363, 1.35228922, 1.65338905,\n",
       "       1.17263119, 1.96243163, 1.97323808, 1.7270304 , 1.24676653,\n",
       "       1.25347726, 1.38227006, 1.66208244, 1.3399067 , 1.26432774,\n",
       "       1.02642554, 1.23611041, 1.77817841, 1.29411452, 1.74010426,\n",
       "       1.68478342, 1.07189565, 1.41361047, 1.67751883, 1.29761097,\n",
       "       1.01818793, 1.89947231, 1.93246763, 1.10892665, 1.26381898,\n",
       "       1.84880576, 1.59163308, 1.26367505, 1.83841625, 1.14306977,\n",
       "       1.7706242 , 1.99736532, 1.12185616, 1.20111746, 1.47385649,\n",
       "       1.63420404, 1.72262745, 1.88608677, 1.12961571, 1.40135833,\n",
       "       1.59205518, 1.41987679, 1.58746686, 1.64533847, 1.80466858])"
      ]
     },
     "execution_count": 145,
     "metadata": {},
     "output_type": "execute_result"
    }
   ],
   "source": [
    "x"
   ]
  },
  {
   "cell_type": "markdown",
   "id": "b65487ee",
   "metadata": {},
   "source": [
    "### f)"
   ]
  },
  {
   "cell_type": "code",
   "execution_count": 98,
   "id": "56376075",
   "metadata": {},
   "outputs": [
    {
     "name": "stdout",
     "output_type": "stream",
     "text": [
      "Доверительный интервал по ОММ: (0.984, 1.002)\n"
     ]
    }
   ],
   "source": [
    "beg = 2 * np.sqrt(3*n) * np.mean(x) / (np.quantile(x, (1+beta)/2) + 3*np.sqrt(3*n))\n",
    "end = 2 * np.sqrt(3*n) * np.mean(x) / (np.quantile(x, (1-beta)/2) + 3*np.sqrt(3*n))\n",
    "print('Доверительный интервал по ОММ: (', round(beg,3), ', ', round(end, 3), ')', sep = '')"
   ]
  },
  {
   "cell_type": "code",
   "execution_count": 99,
   "id": "8df6e628",
   "metadata": {},
   "outputs": [
    {
     "name": "stdout",
     "output_type": "stream",
     "text": [
      "Доверительный интервал по ОМП: (0.838, 0.911)\n"
     ]
    }
   ],
   "source": [
    "end_OMP = ((n+1) * np.max(x)) / ((2*n+1)*(np.quantile(x, (1-beta)/2)/np.sqrt(n) + 1))\n",
    "beg_OMP = ((n+1) * np.max(x)) / ((2*n+1)*(np.quantile(x, (1+beta)/2)/np.sqrt(n) + 1))\n",
    "print('Доверительный интервал по ОМП: (', round(beg_OMP,3), ', ', round(end_OMP, 3), ')', sep = '')"
   ]
  },
  {
   "cell_type": "markdown",
   "id": "e3f0d5c4",
   "metadata": {},
   "source": [
    "*Не попали в интервал...*"
   ]
  },
  {
   "cell_type": "markdown",
   "id": "04b3e416",
   "metadata": {},
   "source": [
    "### g)"
   ]
  },
  {
   "cell_type": "code",
   "execution_count": 142,
   "id": "46d1289e",
   "metadata": {},
   "outputs": [],
   "source": [
    "sample_delta = []\n",
    "\n",
    "for i in range(1000):\n",
    "    y = random.sample((x).tolist(), n, counts = [100 for i in range(n)])#(1000*x).astype(int).tolist())\n",
    "    delta = ((np.max(y) - np.max(x))) * (n+1)/(2*n+1)\n",
    "    sample_delta.append(delta)"
   ]
  },
  {
   "cell_type": "code",
   "execution_count": 143,
   "id": "d82e5ac3",
   "metadata": {},
   "outputs": [
    {
     "name": "stdout",
     "output_type": "stream",
     "text": [
      "Bootstrap доверительный интервал: (0.986, 1.004)\n"
     ]
    }
   ],
   "source": [
    "beg_bs = np.sort(np.array(sample_delta))[24] + np.max(x)*(n+1)/(2*n+1)\n",
    "end_bs = np.sort(np.array(sample_delta))[974] + np.max(x)*(n+1)/(2*n+1)\n",
    "print('Bootstrap доверительный интервал: (', round(beg_bs,3), ', ', round(end_bs, 3), ')', sep = '')"
   ]
  },
  {
   "cell_type": "markdown",
   "id": "12ea9c09",
   "metadata": {},
   "source": [
    "### h)"
   ]
  },
  {
   "cell_type": "code",
   "execution_count": 144,
   "id": "dc19d5ab",
   "metadata": {},
   "outputs": [
    {
     "name": "stdout",
     "output_type": "stream",
     "text": [
      "ширина асимптотического интервала для ОММ:  0.01781025302456607\n",
      "ширина асимптотического интервала для ОМП:  0.07284899509736453\n",
      "ширина bootstrap интервала:  0.017553745538730237\n"
     ]
    }
   ],
   "source": [
    "print('ширина асимптотического интервала для ОММ: ', end-beg)\n",
    "print('ширина асимптотического интервала для ОМП: ', end_OMP-beg_OMP)\n",
    "print('ширина bootstrap интервала: ', end_bs-beg_bs)"
   ]
  },
  {
   "cell_type": "markdown",
   "id": "a3852cd1",
   "metadata": {},
   "source": [
    "=> наименьшая ширина у доверительного интервала bootstrap"
   ]
  }
 ],
 "metadata": {
  "kernelspec": {
   "display_name": "Python 3 (ipykernel)",
   "language": "python",
   "name": "python3"
  },
  "language_info": {
   "codemirror_mode": {
    "name": "ipython",
    "version": 3
   },
   "file_extension": ".py",
   "mimetype": "text/x-python",
   "name": "python",
   "nbconvert_exporter": "python",
   "pygments_lexer": "ipython3",
   "version": "3.9.7"
  }
 },
 "nbformat": 4,
 "nbformat_minor": 5
}
