{
 "cells": [
  {
   "cell_type": "code",
   "execution_count": 4,
   "id": "5f6df3db",
   "metadata": {},
   "outputs": [],
   "source": [
    "import numpy as np\n",
    "import matplotlib.pyplot as plt\n",
    "import scipy.stats as sts\n",
    "import random"
   ]
  },
  {
   "cell_type": "code",
   "execution_count": 99,
   "id": "95b2f30d",
   "metadata": {},
   "outputs": [],
   "source": [
    "beta = 0.95\n",
    "n = 100\n",
    "teta = 6.\n",
    "x = sts.pareto(b = teta).rvs(100)"
   ]
  },
  {
   "cell_type": "code",
   "execution_count": 100,
   "id": "b3714747",
   "metadata": {},
   "outputs": [
    {
     "data": {
      "text/plain": [
       "array([2.15676013, 1.07973699, 1.18090913, 1.04135676, 1.08485359,\n",
       "       1.41419771, 1.2941107 , 1.01659487, 1.31776263, 1.28975879,\n",
       "       1.09824559, 3.16638147, 1.0707532 , 1.15566068, 1.39139145,\n",
       "       1.06918662, 1.12333208, 1.11954847, 1.05875845, 1.01607736,\n",
       "       1.30258724, 1.69671726, 1.25735217, 1.28245266, 1.03532468,\n",
       "       1.17293057, 1.12438274, 1.33866457, 1.18162935, 1.16037283,\n",
       "       1.00871287, 1.20246524, 1.43095489, 1.03177537, 1.17513622,\n",
       "       1.24988153, 1.12790671, 1.61420638, 1.06106547, 1.08318632,\n",
       "       1.0901585 , 1.01654259, 1.19551819, 1.13970173, 1.13930165,\n",
       "       1.31493813, 1.225793  , 1.18822033, 1.00075394, 1.15788142,\n",
       "       1.16518312, 1.00061126, 1.1848818 , 1.11041656, 1.12534354,\n",
       "       1.27822666, 1.24445559, 1.00113898, 1.7354954 , 1.24463608,\n",
       "       1.0243573 , 1.3271838 , 1.03082905, 1.00361871, 1.02134454,\n",
       "       1.17186865, 1.06060951, 1.02781572, 1.16551868, 1.24438279,\n",
       "       1.30467736, 1.47617053, 1.01178293, 1.52337091, 1.11288599,\n",
       "       1.10728915, 1.05579649, 1.10046267, 1.03921158, 1.17298758,\n",
       "       1.06769034, 1.0543257 , 1.00602903, 1.48143672, 1.02533945,\n",
       "       1.05714698, 1.04796231, 1.25533115, 1.54005617, 1.75901794,\n",
       "       1.07349355, 1.00925517, 1.08903943, 1.02431726, 1.07291465,\n",
       "       1.12405695, 1.07376348, 1.43783951, 1.10735769, 1.30585955])"
      ]
     },
     "execution_count": 100,
     "metadata": {},
     "output_type": "execute_result"
    }
   ],
   "source": [
    "x"
   ]
  },
  {
   "cell_type": "markdown",
   "id": "328d5f03",
   "metadata": {},
   "source": [
    "### e)"
   ]
  },
  {
   "cell_type": "code",
   "execution_count": 101,
   "id": "e7c50f8e",
   "metadata": {},
   "outputs": [
    {
     "name": "stdout",
     "output_type": "stream",
     "text": [
      "Доверительный интервал для медианы: (1.103, 1.113)\n"
     ]
    }
   ],
   "source": [
    "teta_omp = n/np.sum(np.log(x)) + 1\n",
    "beg_med = 2**(1/(teta_omp-1)) * (1 - np.log(2)*np.quantile(x, (1+beta)/2) / (np.sqrt(n)*(teta_omp-1)))\n",
    "end_med = 2**(1/(teta_omp-1)) * (1 - np.log(2)*np.quantile(x, (1-beta)/2) / (np.sqrt(n)*(teta_omp-1)))\n",
    "print('Доверительный интервал для медианы: (', round(beg_med,3), ', ', round(end_med, 3), ')', sep = '')"
   ]
  },
  {
   "cell_type": "code",
   "execution_count": 102,
   "id": "e165ada0",
   "metadata": {},
   "outputs": [
    {
     "data": {
      "text/plain": [
       "1.1248631416085302"
      ]
     },
     "execution_count": 102,
     "metadata": {},
     "output_type": "execute_result"
    }
   ],
   "source": [
    "(np.sort(x)[49] + np.sort(x)[48])/2"
   ]
  },
  {
   "cell_type": "code",
   "execution_count": 103,
   "id": "4791b2d3",
   "metadata": {},
   "outputs": [
    {
     "name": "stdout",
     "output_type": "stream",
     "text": [
      "Доверительный интервал для параметра: (5.817, 6.252)\n"
     ]
    }
   ],
   "source": [
    "beg = teta_omp - (teta_omp-1)*np.quantile(x, (1+beta)/2)/np.sqrt(n)\n",
    "end = teta_omp - (teta_omp-1)*np.quantile(x, (1-beta)/2)/np.sqrt(n)\n",
    "print('Доверительный интервал для параметра: (', round(beg,3), ', ', round(end, 3), ')', sep = '')"
   ]
  },
  {
   "cell_type": "markdown",
   "id": "0ea84a7d",
   "metadata": {},
   "source": [
    "### f)"
   ]
  },
  {
   "cell_type": "markdown",
   "id": "ae385e3c",
   "metadata": {},
   "source": [
    "*непараметрический*"
   ]
  },
  {
   "cell_type": "code",
   "execution_count": 104,
   "id": "07da18fb",
   "metadata": {},
   "outputs": [
    {
     "name": "stdout",
     "output_type": "stream",
     "text": [
      "Bootstrap доверительный интервал: (5.765, 8.06)\n"
     ]
    }
   ],
   "source": [
    "sample_delta = []\n",
    "\n",
    "for i in range(1000):\n",
    "    y = random.sample((x).tolist(), n, counts = [100 for i in range(n)])\n",
    "    delta = n/np.sum(np.log(y)) + 1 - teta_omp\n",
    "    sample_delta.append(delta)\n",
    "\n",
    "beg_bs = np.sort(np.array(sample_delta))[24] + teta_omp\n",
    "end_bs = np.sort(np.array(sample_delta))[974] + teta_omp\n",
    "print('Bootstrap доверительный интервал: (', round(beg_bs,3), ', ', round(end_bs, 3), ')', sep = '')"
   ]
  },
  {
   "cell_type": "markdown",
   "id": "d08de248",
   "metadata": {},
   "source": [
    "*параметрический*"
   ]
  },
  {
   "cell_type": "code",
   "execution_count": 105,
   "id": "5cf01149",
   "metadata": {},
   "outputs": [
    {
     "name": "stdout",
     "output_type": "stream",
     "text": [
      "параметрический bootstrap доверительный интервал: (5.972, 8.315)\n"
     ]
    }
   ],
   "source": [
    "sample_delta_param = []\n",
    "N = 10000\n",
    "\n",
    "for i in range(N):\n",
    "    y = sts.pareto(b = teta).rvs(100)\n",
    "    delta = n/np.sum(np.log(y)) + 1 - teta_omp\n",
    "    sample_delta_param.append(delta)\n",
    "    \n",
    "K1 = int((1-beta)/2 * N)\n",
    "K2 = int((1+beta)/2 * N)\n",
    "beg_par = teta_omp + np.sort(np.array(sample_delta_param))[K1]\n",
    "end_par = teta_omp + np.sort(np.array(sample_delta_param))[K2]\n",
    "print('параметрический bootstrap доверительный интервал: (', round(beg_par,3), ', ', round(end_par, 3), ')', sep = '')"
   ]
  },
  {
   "cell_type": "markdown",
   "id": "b83e051f",
   "metadata": {},
   "source": [
    "### g)"
   ]
  },
  {
   "cell_type": "code",
   "execution_count": 107,
   "id": "a5a778a7",
   "metadata": {},
   "outputs": [
    {
     "name": "stdout",
     "output_type": "stream",
     "text": [
      "ширина асимптотического интервала:  0.435\n",
      "ширина непараметрического bootstrap интервала:  2.295\n",
      "ширина параметрического bootstrap интервала:  2.343\n"
     ]
    }
   ],
   "source": [
    "print('ширина асимптотического интервала: ', round(end-beg, 3))\n",
    "print('ширина непараметрического bootstrap интервала: ', round(end_bs-beg_bs, 3))\n",
    "print('ширина параметрического bootstrap интервала: ', round(end_par-beg_par, 3))"
   ]
  },
  {
   "cell_type": "markdown",
   "id": "5ff46fc3",
   "metadata": {},
   "source": [
    "*Асимптотический интервал получился уже...*"
   ]
  }
 ],
 "metadata": {
  "kernelspec": {
   "display_name": "Python 3 (ipykernel)",
   "language": "python",
   "name": "python3"
  },
  "language_info": {
   "codemirror_mode": {
    "name": "ipython",
    "version": 3
   },
   "file_extension": ".py",
   "mimetype": "text/x-python",
   "name": "python",
   "nbconvert_exporter": "python",
   "pygments_lexer": "ipython3",
   "version": "3.9.7"
  }
 },
 "nbformat": 4,
 "nbformat_minor": 5
}
