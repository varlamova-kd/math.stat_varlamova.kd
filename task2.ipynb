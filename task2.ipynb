{
 "cells": [
  {
   "cell_type": "code",
   "execution_count": 216,
   "id": "7caa83ef",
   "metadata": {},
   "outputs": [],
   "source": [
    "import numpy as np\n",
    "import matplotlib.pyplot as plt\n",
    "import random\n",
    "from scipy.stats import moment\n",
    "from scipy.stats import rv_continuous\n",
    "import scipy.stats as scs\n",
    "import seaborn"
   ]
  },
  {
   "cell_type": "code",
   "execution_count": 121,
   "id": "c8a984b1",
   "metadata": {},
   "outputs": [],
   "source": [
    "def pdf(x):\n",
    "    res = np.zeros(shape = x.shape[0])\n",
    "    for i in range(x.shape[0]):\n",
    "        if x[i] >= 0:\n",
    "            res[i] = np.exp(-x[i])\n",
    "    return res"
   ]
  },
  {
   "cell_type": "code",
   "execution_count": 122,
   "id": "a4eca784",
   "metadata": {},
   "outputs": [],
   "source": [
    "n = 25\n",
    "lam = 1"
   ]
  },
  {
   "cell_type": "code",
   "execution_count": 123,
   "id": "35038499",
   "metadata": {},
   "outputs": [],
   "source": [
    "x = np.array([round(random.expovariate(lam), 2) for i in range(n)])"
   ]
  },
  {
   "cell_type": "code",
   "execution_count": 124,
   "id": "4658b984",
   "metadata": {},
   "outputs": [
    {
     "data": {
      "text/plain": [
       "array([0.41, 0.1 , 0.46, 0.26, 0.17, 0.33, 0.08, 0.2 , 3.8 , 0.66, 1.49,\n",
       "       0.63, 2.88, 0.2 , 0.51, 0.48, 0.19, 0.77, 0.12, 0.27, 1.04, 2.17,\n",
       "       0.72, 2.69, 0.13])"
      ]
     },
     "execution_count": 124,
     "metadata": {},
     "output_type": "execute_result"
    }
   ],
   "source": [
    "x"
   ]
  },
  {
   "cell_type": "code",
   "execution_count": 289,
   "id": "111fe22a",
   "metadata": {},
   "outputs": [
    {
     "data": {
      "text/plain": [
       "0.999000499833375"
      ]
     },
     "execution_count": 289,
     "metadata": {},
     "output_type": "execute_result"
    }
   ],
   "source": [
    "np.exp(-0.001)"
   ]
  },
  {
   "cell_type": "markdown",
   "id": "4b97e00a",
   "metadata": {},
   "source": [
    "## a)"
   ]
  },
  {
   "cell_type": "code",
   "execution_count": 125,
   "id": "41662e50",
   "metadata": {},
   "outputs": [],
   "source": [
    "mod = np.max(np.bincount((np.around(x, decimals=1)*10).astype(int)))/10"
   ]
  },
  {
   "cell_type": "code",
   "execution_count": 129,
   "id": "bf3399de",
   "metadata": {},
   "outputs": [],
   "source": [
    "if n%2 == 1:\n",
    "    med = np.sort(x)[n//2+1]\n",
    "else:\n",
    "    med = (np.sort(x)[n//2+1] + np.sort(x)[n//2])/2"
   ]
  },
  {
   "cell_type": "code",
   "execution_count": 107,
   "id": "50bd9862",
   "metadata": {},
   "outputs": [],
   "source": [
    "l = np.max(x)-np.min(x)"
   ]
  },
  {
   "cell_type": "code",
   "execution_count": 173,
   "id": "572ad440",
   "metadata": {},
   "outputs": [],
   "source": [
    "mu3 = moment(x, moment=3)\n",
    "sigma = np.std(x)\n",
    "gamma = round(mu3/sigma**3, 2)"
   ]
  },
  {
   "cell_type": "code",
   "execution_count": 177,
   "id": "2027e778",
   "metadata": {},
   "outputs": [
    {
     "name": "stdout",
     "output_type": "stream",
     "text": [
      "мода =  0.4 \n",
      " медиана =  0.48 \n",
      " размах =  5.89 \n",
      " коэффициаент ассиметрии =  1.73\n"
     ]
    }
   ],
   "source": [
    "print('мода = ', mod, '\\n', 'медиана = ', med, '\\n', 'размах = ', l, '\\n', 'коэффициаент ассиметрии = ', gamma)"
   ]
  },
  {
   "cell_type": "markdown",
   "id": "a5d16659",
   "metadata": {},
   "source": [
    "##  b)"
   ]
  },
  {
   "cell_type": "code",
   "execution_count": 132,
   "id": "b729fa08",
   "metadata": {},
   "outputs": [],
   "source": [
    "def F(x):\n",
    "    F = np.zeros(x.shape[0])\n",
    "    for i in range(x.shape[0]):\n",
    "        F[i] = np.argsort(x)[i]/x.shape[0]\n",
    "    return F"
   ]
  },
  {
   "cell_type": "code",
   "execution_count": 133,
   "id": "b6cf2176",
   "metadata": {},
   "outputs": [
    {
     "data": {
      "text/plain": [
       "array([0.24, 0.04, 0.72, 0.96, 0.16, 0.64, 0.28, 0.52, 0.12, 0.76, 0.2 ,\n",
       "       0.  , 0.08, 0.6 , 0.56, 0.44, 0.36, 0.88, 0.68, 0.8 , 0.4 , 0.84,\n",
       "       0.92, 0.48, 0.32])"
      ]
     },
     "execution_count": 133,
     "metadata": {},
     "output_type": "execute_result"
    }
   ],
   "source": [
    "F(x)"
   ]
  },
  {
   "cell_type": "code",
   "execution_count": 183,
   "id": "8c803c06",
   "metadata": {},
   "outputs": [
    {
     "data": {
      "image/png": "[encoded data removed]",
      "text/plain": [
       "<Figure size 432x288 with 1 Axes>"
      ]
     },
     "metadata": {
      "needs_background": "light"
     },
     "output_type": "display_data"
    }
   ],
   "source": [
    "plt.title('Эмпирическая функция рапределения')\n",
    "plt.ylabel('F(x)')\n",
    "plt.xlabel('x')\n",
    "plt.plot(np.sort(x), F(np.sort(x)))\n",
    "plt.show()"
   ]
  },
  {
   "cell_type": "code",
   "execution_count": 184,
   "id": "4284f7c4",
   "metadata": {},
   "outputs": [
    {
     "data": {
      "image/png": "[encoded data removed]",
      "text/plain": [
       "<Figure size 432x288 with 1 Axes>"
      ]
     },
     "metadata": {
      "needs_background": "light"
     },
     "output_type": "display_data"
    }
   ],
   "source": [
    "plt.title('Гистограмма')\n",
    "plt.hist(x)\n",
    "plt.show()"
   ]
  },
  {
   "cell_type": "code",
   "execution_count": 186,
   "id": "e01f4860",
   "metadata": {},
   "outputs": [
    {
     "data": {
      "image/png": "[encoded data removed]",
      "text/plain": [
       "<Figure size 432x288 with 1 Axes>"
      ]
     },
     "metadata": {
      "needs_background": "light"
     },
     "output_type": "display_data"
    }
   ],
   "source": [
    "plt.title('Boxplot')\n",
    "plt.boxplot(x)\n",
    "plt.show()"
   ]
  },
  {
   "cell_type": "markdown",
   "id": "c624a34a",
   "metadata": {},
   "source": [
    "## c)"
   ]
  },
  {
   "cell_type": "code",
   "execution_count": 293,
   "id": "d8c09810",
   "metadata": {},
   "outputs": [],
   "source": [
    "def q(y):\n",
    "    return 0.75*(1-y**2)"
   ]
  },
  {
   "cell_type": "code",
   "execution_count": 192,
   "id": "cc41051f",
   "metadata": {},
   "outputs": [],
   "source": [
    "s = np.sqrt(1/(n-1)*np.sum((x - np.mean(x))**2))\n",
    "h = 2.344*s/n**0.2"
   ]
  },
  {
   "cell_type": "code",
   "execution_count": 197,
   "id": "3153b077",
   "metadata": {},
   "outputs": [
    {
     "name": "stdout",
     "output_type": "stream",
     "text": [
      "s =  1.0 ; h =  1.23\n"
     ]
    }
   ],
   "source": [
    "print('s = ', round(s, 2), '; h = ', round(h, 2))"
   ]
  },
  {
   "cell_type": "code",
   "execution_count": 155,
   "id": "2a1c4d38",
   "metadata": {},
   "outputs": [],
   "source": [
    "def pdf_kernel(z):\n",
    "    return 1/(n*h)*np.sum(q(z-x)/h)"
   ]
  },
  {
   "cell_type": "code",
   "execution_count": 169,
   "id": "f7d85a54",
   "metadata": {},
   "outputs": [
    {
     "data": {
      "text/plain": [
       "2943.028928234201"
      ]
     },
     "execution_count": 169,
     "metadata": {},
     "output_type": "execute_result"
    }
   ],
   "source": [
    "pdf_kernel(x) #?"
   ]
  },
  {
   "cell_type": "markdown",
   "id": "8796e9f2",
   "metadata": {},
   "source": [
    "## d)"
   ]
  },
  {
   "cell_type": "code",
   "execution_count": 157,
   "id": "e60ea21c",
   "metadata": {},
   "outputs": [
    {
     "data": {
      "text/plain": [
       "0.95992384"
      ]
     },
     "execution_count": 157,
     "metadata": {},
     "output_type": "execute_result"
    }
   ],
   "source": [
    "np.var(x)"
   ]
  },
  {
   "cell_type": "code",
   "execution_count": 282,
   "id": "51fa52ab",
   "metadata": {},
   "outputs": [
    {
     "data": {
      "image/png": "[encoded data removed]",
      "text/plain": [
       "<Figure size 432x288 with 1 Axes>"
      ]
     },
     "metadata": {
      "needs_background": "light"
     },
     "output_type": "display_data"
    }
   ],
   "source": [
    "x1 = np.arange(0, 1.4, 0.001)\n",
    "plt.title('плотность распределения среднего')\n",
    "plt.plot(x1, scs.norm.pdf(x1, 1.0, 0.04))\n",
    "plt.show()"
   ]
  },
  {
   "cell_type": "code",
   "execution_count": 280,
   "id": "fd6c807c",
   "metadata": {},
   "outputs": [],
   "source": [
    "means = []\n",
    "for _ in range(1000):\n",
    "    sample_mean = np.random.choice(x, size=n, replace=True)\n",
    "    means.append(sample_mean.mean())"
   ]
  },
  {
   "cell_type": "code",
   "execution_count": 284,
   "id": "c523212c",
   "metadata": {},
   "outputs": [
    {
     "data": {
      "image/png": "[encoded data removed]",
      "text/plain": [
       "<Figure size 432x288 with 1 Axes>"
      ]
     },
     "metadata": {
      "needs_background": "light"
     },
     "output_type": "display_data"
    }
   ],
   "source": [
    "plt.title('бустраповская оценка')\n",
    "seaborn.histplot(means, bins = n, stat=\"probability\",common_norm=True)\n",
    "plt.show()"
   ]
  },
  {
   "cell_type": "markdown",
   "id": "a15690ca",
   "metadata": {},
   "source": [
    "## e)"
   ]
  },
  {
   "cell_type": "code",
   "execution_count": 254,
   "id": "6ee79d9e",
   "metadata": {},
   "outputs": [],
   "source": [
    "koeff = []\n",
    "for _ in range(1000):\n",
    "    sample_koeff = np.random.choice(x, size=n, replace=True)\n",
    "    koeff.append(scs.skew(sample_koeff))"
   ]
  },
  {
   "cell_type": "code",
   "execution_count": 255,
   "id": "db1a9007",
   "metadata": {},
   "outputs": [
    {
     "data": {
      "image/png": "[encoded data removed]",
      "text/plain": [
       "<Figure size 432x288 with 1 Axes>"
      ]
     },
     "metadata": {
      "needs_background": "light"
     },
     "output_type": "display_data"
    }
   ],
   "source": [
    "plt.title('Бустраповская оценка плотности распределения коэффициента ассиметрии')\n",
    "plt.hist(koeff, n)\n",
    "plt.show()"
   ]
  },
  {
   "cell_type": "code",
   "execution_count": 286,
   "id": "fdb89e12",
   "metadata": {},
   "outputs": [
    {
     "data": {
      "text/plain": [
       "<seaborn.axisgrid.FacetGrid at 0x1fd3b9a78e0>"
      ]
     },
     "execution_count": 286,
     "metadata": {},
     "output_type": "execute_result"
    },
    {
     "data": {
      "image/png": "[encoded data removed]",
      "text/plain": [
       "<Figure size 360x360 with 1 Axes>"
      ]
     },
     "metadata": {
      "needs_background": "light"
     },
     "output_type": "display_data"
    }
   ],
   "source": [
    "seaborn.displot(koeff, bins = n, stat=\"probability\") # с нормальной вероятностью..."
   ]
  }
 ],
 "metadata": {
  "kernelspec": {
   "display_name": "Python 3 (ipykernel)",
   "language": "python",
   "name": "python3"
  },
  "language_info": {
   "codemirror_mode": {
    "name": "ipython",
    "version": 3
   },
   "file_extension": ".py",
   "mimetype": "text/x-python",
   "name": "python",
   "nbconvert_exporter": "python",
   "pygments_lexer": "ipython3",
   "version": "3.9.7"
  }
 },
 "nbformat": 4,
 "nbformat_minor": 5
}
