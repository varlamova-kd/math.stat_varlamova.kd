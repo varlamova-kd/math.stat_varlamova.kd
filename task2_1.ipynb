{
 "cells": [
  {
   "cell_type": "code",
   "execution_count": 255,
   "id": "e0b02270",
   "metadata": {},
   "outputs": [],
   "source": [
    "import numpy as np\n",
    "from scipy.stats import uniform, norm, f, t\n",
    "import statistics\n",
    "from scipy import linalg\n",
    "from sklearn.linear_model import LinearRegression\n",
    "import random\n",
    "from sklearn.model_selection import cross_validate"
   ]
  },
  {
   "cell_type": "code",
   "execution_count": 54,
   "id": "0080ba35",
   "metadata": {},
   "outputs": [],
   "source": [
    "N = 50\n",
    "x = np.zeros((6,50))\n",
    "a = np.zeros(50)\n",
    "for i in range(5):\n",
    "    x[i,:] = uniform.rvs(loc=-1, scale=2, size = 50)\n",
    "for j in range(50):\n",
    "    a[j] = 2 + 3*x[0,j] - 2*x[1,j] + x[2,j] + x[3,j] - x[4,j]\n",
    "    x[5,j] = norm.rvs(a[j], 1.5)"
   ]
  },
  {
   "cell_type": "markdown",
   "id": "189bbe02",
   "metadata": {},
   "source": [
    "## a)"
   ]
  },
  {
   "cell_type": "code",
   "execution_count": 250,
   "id": "b8ee03fe",
   "metadata": {},
   "outputs": [
    {
     "data": {
      "text/plain": [
       "array([0.65716136, 0.43907875, 0.18315037, 0.08699621, 0.13264666,\n",
       "       0.7254276 ])"
      ]
     },
     "execution_count": 250,
     "metadata": {},
     "output_type": "execute_result"
    }
   ],
   "source": [
    "R_sq = np.zeros(6)\n",
    "for i in range(6):\n",
    "    y = x[i, :]\n",
    "    TSS = np.sum(np.square(x[i] - np.mean(y)))\n",
    "    \n",
    "    psi = np.ones((50,6))\n",
    "    psi[:,1:] = np.delete(x,i,0).T\n",
    "    F_inv = np.linalg.inv(psi.T@psi)\n",
    "    beta = F_inv@psi.T@y\n",
    "    RSS = (y - psi@beta).T @ (y - psi@beta)\n",
    "    \n",
    "    R_sq[i] = 1 - RSS/TSS\n",
    "R_sq"
   ]
  },
  {
   "cell_type": "markdown",
   "id": "6f32a60f",
   "metadata": {},
   "source": [
    "=> η связан с ξ, ξ[k] не являются мультиколлинеарными"
   ]
  },
  {
   "cell_type": "markdown",
   "id": "57a11ffd",
   "metadata": {},
   "source": [
    "## b)"
   ]
  },
  {
   "cell_type": "code",
   "execution_count": 251,
   "id": "027f628f",
   "metadata": {},
   "outputs": [
    {
     "data": {
      "text/plain": [
       "array([ -2.18578094,  -2.52272452,  18.5127631 ,   2.98558084,\n",
       "         2.15250863, -12.51498916])"
      ]
     },
     "execution_count": 251,
     "metadata": {},
     "output_type": "execute_result"
    }
   ],
   "source": [
    "# \"вручную\" (β[0] - у нас последний коэффициент)\n",
    "target_eta = np.array([x[5,0], x[5,12], x[5,19], x[5,25], x[5,38], x[5,49]])\n",
    "target_ksi = np.ones((6,6))\n",
    "for i in range(5):\n",
    "    target_ksi[i, :] = np.array([x[i,0], x[i,12], x[5,19], x[i,25], x[i,38], x[i,49]])\n",
    "betas_hand = linalg.solve(target_ksi, target_eta)\n",
    "betas_hand"
   ]
  },
  {
   "cell_type": "code",
   "execution_count": 252,
   "id": "148e9933",
   "metadata": {},
   "outputs": [
    {
     "data": {
      "text/plain": [
       "array([ 3.53455031, -2.30265472,  1.03475013,  0.62032976, -0.882746  ])"
      ]
     },
     "execution_count": 252,
     "metadata": {},
     "output_type": "execute_result"
    }
   ],
   "source": [
    "# с помощью встроенной библиотеки для линейной регресси, без нулевого веса (всегда можем убрать его)\n",
    "x_reg = x[:5,:].T\n",
    "y_reg = x[5,:]\n",
    "reg = LinearRegression().fit(x_reg, y_reg)\n",
    "betas = reg.coef_\n",
    "betas"
   ]
  },
  {
   "cell_type": "code",
   "execution_count": 253,
   "id": "e97d0eeb",
   "metadata": {},
   "outputs": [],
   "source": [
    "# проверяем значимость бутстрапом (можно было не бутстрапом, а через t(N-6))\n",
    "delta_boot = np.zeros((1000,5))\n",
    "y = np.zeros((6,50))\n",
    "for i in range(1000):\n",
    "    y[0, :] = np.array(random.sample((x[0,:]).tolist(), N, counts = [100 for i in range(N)])) #хотим двумерную подвыборку или два цикла\n",
    "    for m in range(50):\n",
    "        for k in range(50):\n",
    "            if x[0, k] == y[0, m]:\n",
    "                y[:, m] = x[:, k]\n",
    "                break\n",
    "        \n",
    "    x_boot = y[:5,:].T\n",
    "    y_boot = y[5,:]\n",
    "    reg_boot = LinearRegression().fit(x_boot, y_boot)\n",
    "    betas_boot = reg_boot.coef_\n",
    "    delta_boot[i, :] = np.abs(betas_boot - betas)"
   ]
  },
  {
   "cell_type": "code",
   "execution_count": 254,
   "id": "774f03fd",
   "metadata": {},
   "outputs": [
    {
     "name": "stdout",
     "output_type": "stream",
     "text": [
      "0.0\n",
      "отвергаем гипотезу о незначимости коэффициента beta1\n",
      "0.0\n",
      "отвергаем гипотезу о незначимости коэффициента beta2\n",
      "0.016\n",
      "отвергаем гипотезу о незначимости коэффициента beta3\n",
      "0.161\n",
      "нет оснований отвергнуть гипотезу о незначимости коэффициента beta4\n",
      "0.029\n",
      "отвергаем гипотезу о незначимости коэффициента beta5\n"
     ]
    }
   ],
   "source": [
    "for i in range(5):\n",
    "    m = sum(np.sort(delta_boot[:, i])>=abs(betas[i]))\n",
    "    p_value = m/1000\n",
    "    print(p_value)\n",
    "    if p_value > 0.05:\n",
    "        print('нет оснований отвергнуть гипотезу о незначимости коэффициента beta', i+1, sep='')\n",
    "    else:\n",
    "        print('отвергаем гипотезу о незначимости коэффициента beta', i+1, sep='')"
   ]
  },
  {
   "cell_type": "code",
   "execution_count": 259,
   "id": "7774a463",
   "metadata": {},
   "outputs": [
    {
     "name": "stdout",
     "output_type": "stream",
     "text": [
      "0.0\n",
      "отвергаем гипотезу о незначимости коэффициента beta1\n",
      "9.57901842513209e-07\n",
      "отвергаем гипотезу о незначимости коэффициента beta2\n",
      "0.012553130449339811\n",
      "отвергаем гипотезу о незначимости коэффициента beta3\n",
      "0.09659604710288483\n",
      "нет оснований отвергнуть гипотезу о незначимости коэффициента beta4\n",
      "0.028715737846914502\n",
      "отвергаем гипотезу о незначимости коэффициента beta5\n"
     ]
    }
   ],
   "source": [
    "# сделаем не через бутстрап\n",
    "for i in range(5):\n",
    "    deltas = betas[i]/np.sqrt(RSS*F_inv[i,i])*(N-6)**0.5\n",
    "    p_values = 2*(1 - t.cdf(abs(deltas), N-6))\n",
    "    print(p_values)\n",
    "    if p_values > 0.05:\n",
    "        print('нет оснований отвергнуть гипотезу о незначимости коэффициента beta', i+1, sep='')\n",
    "    else:\n",
    "        print('отвергаем гипотезу о незначимости коэффициента beta', i+1, sep='')"
   ]
  },
  {
   "cell_type": "markdown",
   "id": "7a558660",
   "metadata": {},
   "source": [
    "## c)"
   ]
  },
  {
   "cell_type": "code",
   "execution_count": 100,
   "id": "9fe00c34",
   "metadata": {},
   "outputs": [
    {
     "name": "stdout",
     "output_type": "stream",
     "text": [
      "коэффициент детерминации: 0.7254276045479084\n"
     ]
    }
   ],
   "source": [
    "R_eta = R_sq[5]\n",
    "print('коэффициент детерминации: ', R_eta, sep='')"
   ]
  },
  {
   "cell_type": "code",
   "execution_count": 97,
   "id": "30f36c08",
   "metadata": {},
   "outputs": [
    {
     "data": {
      "text/plain": [
       "9.775010058684916"
      ]
     },
     "execution_count": 97,
     "metadata": {},
     "output_type": "execute_result"
    }
   ],
   "source": [
    "delta_est = R_eta**2/(1-R_eta**2) * (N - 6)/(6-1)\n",
    "delta_est"
   ]
  },
  {
   "cell_type": "markdown",
   "id": "005f690f",
   "metadata": {},
   "source": [
    "Δ ~ F(6-1,50-1) = F(5,49)"
   ]
  },
  {
   "cell_type": "markdown",
   "id": "3bcc5c02",
   "metadata": {},
   "source": [
    "P(Δ >= Δ_est|H0) ≈ 1.66*10^(-6) < 0.05 => отвергаем гипотезу о незначимости коэффициента детерминации"
   ]
  },
  {
   "cell_type": "markdown",
   "id": "a07fe04f",
   "metadata": {},
   "source": [
    "## d)"
   ]
  },
  {
   "cell_type": "code",
   "execution_count": 107,
   "id": "e73f921d",
   "metadata": {},
   "outputs": [
    {
     "name": "stdout",
     "output_type": "stream",
     "text": [
      "рандомное значение в нуле: 1.0040616013905266\n"
     ]
    }
   ],
   "source": [
    "a_0 = 2\n",
    "eta_0 = norm.rvs(a_0, 1.5)\n",
    "print ('рандомное значение в нуле: ', eta_0, sep='')"
   ]
  },
  {
   "cell_type": "code",
   "execution_count": 108,
   "id": "6d00c305",
   "metadata": {},
   "outputs": [
    {
     "name": "stdout",
     "output_type": "stream",
     "text": [
      "доверительный интервал: (-1.9149373578256872, 3.943877652048334)\n"
     ]
    }
   ],
   "source": [
    "# построим численный доверительный интервал\n",
    "delta_int = np.zeros(1000)\n",
    "for i in range(1000):\n",
    "    eta_boot = norm.rvs(a_0, 1.5)\n",
    "    delta_int[i] = eta_boot - eta_0\n",
    "print('доверительный интервал: (', np.sort(delta_int)[24], ', ', np.sort(delta_int)[974], ')', sep='')"
   ]
  },
  {
   "cell_type": "markdown",
   "id": "d224d8cb",
   "metadata": {},
   "source": [
    "## e)"
   ]
  },
  {
   "cell_type": "code",
   "execution_count": 109,
   "id": "6d710bbe",
   "metadata": {},
   "outputs": [
    {
     "data": {
      "text/plain": [
       "array([ 0.84524464, -1.57755395,  2.09812418, -1.49202065,  1.54935236,\n",
       "        1.25758238, -1.23354073,  0.30257575, -1.3615586 ,  1.38482371,\n",
       "        0.18678295,  1.45290526,  3.54780015, -2.62454206, -0.73697774,\n",
       "       -0.2119806 ,  1.39407606, -2.62690182,  1.39457922, -0.82394558,\n",
       "        0.8141053 ,  2.36067592, -1.54258669, -2.01908733, -0.95516516,\n",
       "       -2.87389487,  0.03970882,  1.04197525, -2.71415705,  2.43870054,\n",
       "       -1.28864096,  0.4629264 , -1.30185075,  0.56268497, -0.83842327,\n",
       "       -1.83163695, -0.60884156, -0.63329264, -1.18394076, -1.37980173,\n",
       "        1.05438459,  1.74774322,  0.81145312,  0.37832657,  0.45807828,\n",
       "        0.89220305,  2.78160038, -0.44180626,  0.1167645 ,  0.92697011])"
      ]
     },
     "execution_count": 109,
     "metadata": {},
     "output_type": "execute_result"
    }
   ],
   "source": [
    "y = x[5,:]\n",
    "e = np.zeros(50)\n",
    "psi = np.ones((50,6))\n",
    "psi[:,1:] = np.delete(x,5,0).T\n",
    "F_inv = np.linalg.inv(psi.T@psi)\n",
    "beta = F_inv@psi.T@y\n",
    "e = y - psi@beta\n",
    "e"
   ]
  },
  {
   "cell_type": "code",
   "execution_count": 121,
   "id": "700ea88b",
   "metadata": {},
   "outputs": [
    {
     "data": {
      "text/plain": [
       "598"
      ]
     },
     "execution_count": 121,
     "metadata": {},
     "output_type": "execute_result"
    }
   ],
   "source": [
    "I=0\n",
    "for i in range(N):\n",
    "    for j in range (i+1, N):\n",
    "        if(e[i] > e[j]):\n",
    "            I += 1\n",
    "I"
   ]
  },
  {
   "cell_type": "markdown",
   "id": "55c6cbe5",
   "metadata": {},
   "source": [
    "Δ ~> N(0,1)"
   ]
  },
  {
   "cell_type": "code",
   "execution_count": 124,
   "id": "49186d0f",
   "metadata": {},
   "outputs": [
    {
     "data": {
      "text/plain": [
       "0.8056255996938093"
      ]
     },
     "execution_count": 124,
     "metadata": {},
     "output_type": "execute_result"
    }
   ],
   "source": [
    "delta_est = (I - N*(N-1)/4)/(N**3/36)**0.5\n",
    "p_value = 2*(1 - norm.cdf(abs(delta_est)))\n",
    "p_value"
   ]
  },
  {
   "cell_type": "markdown",
   "id": "b95e1177",
   "metadata": {},
   "source": [
    "=> нет оснований отвергнуть гипотезу о независимости ошибок измерения"
   ]
  },
  {
   "cell_type": "markdown",
   "id": "f757325f",
   "metadata": {},
   "source": [
    "## g)"
   ]
  },
  {
   "cell_type": "code",
   "execution_count": 137,
   "id": "5d58acf1",
   "metadata": {},
   "outputs": [],
   "source": [
    "eps = np.zeros(50)\n",
    "eps = x[5,:] - reg.predict(x_reg)"
   ]
  },
  {
   "cell_type": "code",
   "execution_count": 140,
   "id": "c18c341d",
   "metadata": {},
   "outputs": [
    {
     "data": {
      "text/plain": [
       "1.8452763741911282"
      ]
     },
     "execution_count": 140,
     "metadata": {},
     "output_type": "execute_result"
    }
   ],
   "source": [
    "sigma = np.median(np.abs(eps))/0.675\n",
    "sigma"
   ]
  },
  {
   "cell_type": "code",
   "execution_count": 141,
   "id": "55705651",
   "metadata": {},
   "outputs": [
    {
     "name": "stdout",
     "output_type": "stream",
     "text": [
      "выбросов нет!\n"
     ]
    }
   ],
   "source": [
    "quantity = 0\n",
    "for i in range(50):\n",
    "    if eps[i]<=-2*sigma or eps[i]>=2*sigma:\n",
    "        quantity+=1\n",
    "        print(i, ' является выбросом', sep='')\n",
    "if quantity == 0:\n",
    "    print('выбросов нет!')"
   ]
  },
  {
   "cell_type": "markdown",
   "id": "be03c341",
   "metadata": {},
   "source": [
    "## f)"
   ]
  },
  {
   "cell_type": "code",
   "execution_count": 246,
   "id": "47c02a55",
   "metadata": {},
   "outputs": [],
   "source": [
    "#Колмогоров\n",
    "\n",
    "def F_est(x):\n",
    "    F = np.zeros(x.shape[0])\n",
    "    for i in range(x.shape[0]):\n",
    "        F[i] = np.argsort(x)[i]/x.shape[0]\n",
    "    return F"
   ]
  },
  {
   "cell_type": "code",
   "execution_count": 245,
   "id": "36c50613",
   "metadata": {},
   "outputs": [
    {
     "name": "stdout",
     "output_type": "stream",
     "text": [
      "оценка дисперсии: 1.5227623144342968\n"
     ]
    }
   ],
   "source": [
    "teta2_est = (np.sum(np.square(eps))/N)**0.5\n",
    "print('оценка дисперсии: ', teta2_est, sep = '')"
   ]
  },
  {
   "cell_type": "code",
   "execution_count": 247,
   "id": "d577f8cd",
   "metadata": {},
   "outputs": [
    {
     "data": {
      "text/plain": [
       "6.119871757431944"
      ]
     },
     "execution_count": 247,
     "metadata": {},
     "output_type": "execute_result"
    }
   ],
   "source": [
    "delta_eps = N**0.5 * np.max(np.abs(F_est(eps) - norm.cdf(eps, 0, teta2_est)))\n",
    "delta_eps"
   ]
  },
  {
   "cell_type": "code",
   "execution_count": 249,
   "id": "1ebdd4bb",
   "metadata": {},
   "outputs": [
    {
     "data": {
      "text/plain": [
       "0.5139"
      ]
     },
     "execution_count": 249,
     "metadata": {},
     "output_type": "execute_result"
    }
   ],
   "source": [
    "delta_boot = np.zeros(10000)\n",
    "for i in range(10000):\n",
    "    y = np.array(random.sample((eps).tolist(), N, counts = [100 for i in range(N)]))\n",
    "    teta2_boot = (np.sum(np.square(y))/N)**0.5\n",
    "    F = norm(0, teta2_boot)\n",
    "    delta_boot[i] = N**0.5 * np.max(abs(F_est(eps) - F.cdf(eps)))\n",
    "k = sum(delta_boot < delta_eps)+1\n",
    "p_value = 1 - (k-1)/10000\n",
    "p_value"
   ]
  },
  {
   "cell_type": "markdown",
   "id": "0aa88478",
   "metadata": {},
   "source": [
    "=> нет оснований отвергнуть гипотезу о нормальности распределения ошибок"
   ]
  },
  {
   "cell_type": "markdown",
   "id": "ecd43db5",
   "metadata": {},
   "source": [
    "## h)"
   ]
  },
  {
   "cell_type": "code",
   "execution_count": 176,
   "id": "e8ad0c9c",
   "metadata": {},
   "outputs": [
    {
     "data": {
      "text/plain": [
       "array([9.31277254e-01, 3.36810531e+00, 5.34143147e+00, 3.15963605e+00,\n",
       "       2.80886589e+00, 2.23925061e+00, 2.14578118e+00, 1.26545259e-01,\n",
       "       2.31589483e+00, 2.24269782e+00, 4.05422992e-02, 2.78459723e+00,\n",
       "       1.68268321e+01, 9.62319453e+00, 6.49292852e-01, 4.85498616e-02,\n",
       "       3.01215968e+00, 9.79491548e+00, 2.37851706e+00, 1.06336668e+00,\n",
       "       8.05006596e-01, 7.83852011e+00, 2.92051142e+00, 5.64509378e+00,\n",
       "       1.16038567e+00, 1.09744588e+01, 1.99505058e-03, 1.61853389e+00,\n",
       "       8.95701665e+00, 6.80763394e+00, 2.03498671e+00, 2.84381742e-01,\n",
       "       2.24382557e+00, 3.84407851e-01, 8.42265281e-01, 4.56975746e+00,\n",
       "       5.29240025e-01, 5.91062511e-01, 1.70772627e+00, 2.68190931e+00,\n",
       "       1.26962113e+00, 3.65099576e+00, 7.31319856e-01, 1.63977966e-01,\n",
       "       2.79975922e-01, 9.62570075e-01, 9.76874304e+00, 2.70515598e-01,\n",
       "       1.67542268e-02, 1.26566732e+00])"
      ]
     },
     "execution_count": 176,
     "metadata": {},
     "output_type": "execute_result"
    }
   ],
   "source": [
    "cv = np.zeros(50)\n",
    "for i in range(50):\n",
    "    x_test = x[:5,i].reshape((5,1)).T\n",
    "    y_test = x[5,i]\n",
    "    x_train = np.delete(x[:5,:].T, i, 0)\n",
    "    y_train = np.delete(x[5,:], i)\n",
    "    reg_cv = LinearRegression().fit(x_train, y_train)\n",
    "    cv[i] = (reg_cv.predict(x_test) - y_test)**2\n",
    "cv"
   ]
  },
  {
   "cell_type": "code",
   "execution_count": 177,
   "id": "ff6c087a",
   "metadata": {},
   "outputs": [
    {
     "data": {
      "text/plain": [
       "0.6403135221517331"
      ]
     },
     "execution_count": 177,
     "metadata": {},
     "output_type": "execute_result"
    }
   ],
   "source": [
    "CVSS = np.sum(cv)\n",
    "TSS = np.sum(np.square(x[5,:] - np.mean(x[5,:])))\n",
    "R_cv = 1 - CVSS/TSS\n",
    "R_cv"
   ]
  },
  {
   "cell_type": "markdown",
   "id": "db312036",
   "metadata": {},
   "source": [
    "## i)"
   ]
  },
  {
   "cell_type": "code",
   "execution_count": 211,
   "id": "1f813b31",
   "metadata": {},
   "outputs": [
    {
     "data": {
      "text/plain": [
       "2.4542290259088615"
      ]
     },
     "execution_count": 211,
     "metadata": {},
     "output_type": "execute_result"
    }
   ],
   "source": [
    "# пусть все ξ = 0.5\n",
    "RSS = (x[5,:] - psi@beta).T @ (x[5,:] - psi@beta)\n",
    "b = 2 + 0.5*(3-2+1+1-1)\n",
    "eta_ad = np.zeros(5)\n",
    "for i in range(5):\n",
    "    eta_ad[i] = norm.rvs(b, 1.5)\n",
    "sigma_cap = 1/4*np.sum(np.square(eta_ad - np.mean(eta_ad)))\n",
    "delta_est = RSS/((N-6)*sigma_cap)\n",
    "delta_est"
   ]
  },
  {
   "cell_type": "code",
   "execution_count": 183,
   "id": "3d6f27e0",
   "metadata": {},
   "outputs": [
    {
     "data": {
      "text/plain": [
       "0.48827065834391803"
      ]
     },
     "execution_count": 183,
     "metadata": {},
     "output_type": "execute_result"
    }
   ],
   "source": [
    "p_value = 1 - f.cdf(np.abs(delta_est), N-6, 4)\n",
    "p_value"
   ]
  },
  {
   "cell_type": "markdown",
   "id": "cf36a9c5",
   "metadata": {},
   "source": [
    "=> нет оснований овергнуть гипотезу об адекватности модели"
   ]
  },
  {
   "cell_type": "markdown",
   "id": "1e8f11e9",
   "metadata": {},
   "source": [
    "## j)"
   ]
  },
  {
   "cell_type": "code",
   "execution_count": 200,
   "id": "84a15b96",
   "metadata": {},
   "outputs": [
    {
     "name": "stdout",
     "output_type": "stream",
     "text": [
      "0.0\n",
      "отвергаем гипотезу о незначимости коэффициента beta1\n",
      "0.0\n",
      "отвергаем гипотезу о незначимости коэффициента beta2\n",
      "0.008\n",
      "отвергаем гипотезу о незначимости коэффициента beta3\n",
      "0.027\n",
      "отвергаем гипотезу о незначимости коэффициента beta4\n"
     ]
    }
   ],
   "source": [
    "x_simpl = np.delete(x,3,0)\n",
    "\n",
    "#b)\n",
    "x_reg = x_simpl[:4,:].T\n",
    "y_reg = x_simpl[4,:]\n",
    "reg = LinearRegression().fit(x_reg, y_reg)\n",
    "betas = reg.coef_\n",
    "\n",
    "delta_boot = np.zeros((1000,4))\n",
    "y = np.zeros((5,50))\n",
    "for i in range(1000):\n",
    "    y[0, :] = np.array(random.sample((x_simpl[0,:]).tolist(), N, counts = [100 for i in range(N)])) #хотим двумерную подвыборку или два цикла\n",
    "    for m in range(50):\n",
    "        for k in range(50):\n",
    "            if x_simpl[0, k] == y[0, m]:\n",
    "                y[:, m] = x_simpl[:, k]\n",
    "                break\n",
    "        \n",
    "    x_boot = y[:4,:].T\n",
    "    y_boot = y[4,:]\n",
    "    reg_boot = LinearRegression().fit(x_boot, y_boot)\n",
    "    betas_boot = reg_boot.coef_\n",
    "    delta_boot[i, :] = np.abs(betas_boot - betas)\n",
    "\n",
    "for i in range(4):\n",
    "    m = sum(np.sort(delta_boot[:, i])>=abs(betas[i]))\n",
    "    p_value = m/1000\n",
    "    print(p_value)\n",
    "    if p_value > 0.05:\n",
    "        print('нет оснований отвергнуть гипотезу о незначимости коэффициента beta', i+1, sep='')\n",
    "    else:\n",
    "        print('отвергаем гипотезу о незначимости коэффициента beta', i+1, sep='')"
   ]
  },
  {
   "cell_type": "code",
   "execution_count": 223,
   "id": "1d76ff84",
   "metadata": {},
   "outputs": [
    {
     "name": "stdout",
     "output_type": "stream",
     "text": [
      "коэффициент детерминации: 0.7096656862660906\n",
      "p_value: 1.2642254529904307e-06\n"
     ]
    }
   ],
   "source": [
    "#c)\n",
    "TSS = np.sum(np.square(x_simpl[4] - np.mean(x_simpl[4])))\n",
    "    \n",
    "psi = np.ones((50,5))\n",
    "psi[:,1:] = np.delete(x_simpl,4,0).T\n",
    "F_inv = np.linalg.inv(psi.T@psi)\n",
    "beta = F_inv@psi.T@x_simpl[4]\n",
    "RSS1 = (x_simpl[4] - psi@beta).T @ (x_simpl[4] - psi@beta)\n",
    "    \n",
    "R_sqrt = 1 - RSS1/TSS\n",
    "\n",
    "delta_est = R_sqrt**2/(1-R_sqrt**2) * (N - 5)/(5-1)\n",
    "p_value = 1 - f.cdf(np.abs(delta_est), 5-1, N-1)\n",
    "print('коэффициент детерминации: ', R_sqrt, sep='')\n",
    "print('p_value: ', p_value, sep='')"
   ]
  },
  {
   "cell_type": "markdown",
   "id": "efdfce95",
   "metadata": {},
   "source": [
    "=> отвергаем гипотезу о незначимости коэффициента детерминации"
   ]
  },
  {
   "cell_type": "code",
   "execution_count": 207,
   "id": "bb2371ce",
   "metadata": {},
   "outputs": [
    {
     "data": {
      "text/plain": [
       "array([ 3.63261237, -2.31209984,  0.98701639, -0.89699761])"
      ]
     },
     "execution_count": 207,
     "metadata": {},
     "output_type": "execute_result"
    }
   ],
   "source": [
    "betas"
   ]
  },
  {
   "cell_type": "markdown",
   "id": "43985779",
   "metadata": {},
   "source": [
    "коэффициенты ненамного отличаются от соответствующих коэффициентов до удаления ξ4"
   ]
  },
  {
   "cell_type": "code",
   "execution_count": 220,
   "id": "b3c09ed3",
   "metadata": {},
   "outputs": [
    {
     "data": {
      "text/plain": [
       "0.11915616436609044"
      ]
     },
     "execution_count": 220,
     "metadata": {},
     "output_type": "execute_result"
    }
   ],
   "source": [
    "delta = (RSS1 - RSS)/RSS * (N-6)\n",
    "p_value = 1 - f.cdf(delta,1,N-6)\n",
    "p_value"
   ]
  },
  {
   "cell_type": "markdown",
   "id": "f5923ff1",
   "metadata": {},
   "source": [
    "=> нет оснований отвергнуть гипотезу о том, что усложнение модели не является значимым"
   ]
  },
  {
   "cell_type": "markdown",
   "id": "d02eb1e1",
   "metadata": {},
   "source": [
    "## k)"
   ]
  },
  {
   "cell_type": "code",
   "execution_count": 243,
   "id": "a707ada8",
   "metadata": {},
   "outputs": [
    {
     "data": {
      "text/plain": [
       "0.354"
      ]
     },
     "execution_count": 243,
     "metadata": {},
     "output_type": "execute_result"
    }
   ],
   "source": [
    "delta_boot = np.zeros(1000)\n",
    "y = np.zeros((5,50))\n",
    "for i in range(1000):\n",
    "    y[0, :] = np.array(random.sample((x_simpl[0,:]).tolist(), N, counts = [100 for i in range(N)])) #хотим двумерную подвыборку или два цикла\n",
    "    for m in range(50):\n",
    "        for k in range(50):\n",
    "            if x_simpl[0, k] == y[0, m]:\n",
    "                y[:, m] = x_simpl[:, k]\n",
    "                break\n",
    "        \n",
    "    TSS = np.sum(np.square(y[4] - np.mean(y[4])))\n",
    "    \n",
    "    psi = np.ones((50,5))\n",
    "    psi[:,1:] = np.delete(y,4,0).T\n",
    "    F_inv = np.linalg.inv(psi.T@psi)\n",
    "    beta = F_inv@psi.T@y[4]\n",
    "    RSS1 = (y[4] - psi@beta).T @ (y[4] - psi@beta)\n",
    "\n",
    "    R_boot = 1 - RSS1/TSS\n",
    "    delta_boot[i] = R_sq[5] - R_boot\n",
    "\n",
    "delta_est = R_sq[5] - R_sqrt\n",
    "m = sum(delta_boot >= delta_est)\n",
    "p_value = m/1000\n",
    "p_value"
   ]
  },
  {
   "cell_type": "markdown",
   "id": "49f0a13f",
   "metadata": {},
   "source": [
    "=> нет оснований отвергнуть гипотезу о том, что усложнение модели не является значимым"
   ]
  }
 ],
 "metadata": {
  "kernelspec": {
   "display_name": "Python 3 (ipykernel)",
   "language": "python",
   "name": "python3"
  },
  "language_info": {
   "codemirror_mode": {
    "name": "ipython",
    "version": 3
   },
   "file_extension": ".py",
   "mimetype": "text/x-python",
   "name": "python",
   "nbconvert_exporter": "python",
   "pygments_lexer": "ipython3",
   "version": "3.9.7"
  }
 },
 "nbformat": 4,
 "nbformat_minor": 5
}
