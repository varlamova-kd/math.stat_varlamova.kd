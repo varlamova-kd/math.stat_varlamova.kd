{
 "cells": [
  {
   "cell_type": "code",
   "execution_count": 337,
   "id": "e0b02270",
   "metadata": {},
   "outputs": [],
   "source": [
    "import numpy as np\n",
    "from scipy.stats import uniform, norm, f, t\n",
    "import statistics\n",
    "from scipy import linalg\n",
    "from sklearn.linear_model import LinearRegression\n",
    "import random\n",
    "from sklearn.model_selection import cross_validate"
   ]
  },
  {
   "cell_type": "code",
   "execution_count": 338,
   "id": "0080ba35",
   "metadata": {},
   "outputs": [],
   "source": [
    "N = 50\n",
    "x = np.zeros((6,50))\n",
    "a = np.zeros(50)\n",
    "for i in range(5):\n",
    "    x[i,:] = uniform.rvs(loc=-1, scale=2, size = 50)\n",
    "for j in range(50):\n",
    "    a[j] = 2 + 3*x[0,j] - 2*x[1,j] + x[2,j] + x[3,j] - x[4,j]\n",
    "    x[5,j] = norm.rvs(a[j], 1.5)"
   ]
  },
  {
   "cell_type": "markdown",
   "id": "189bbe02",
   "metadata": {},
   "source": [
    "## a)"
   ]
  },
  {
   "cell_type": "code",
   "execution_count": 339,
   "id": "683eddf5",
   "metadata": {},
   "outputs": [
    {
     "data": {
      "text/plain": [
       "array([0.05547866, 0.06955145, 0.01900459, 0.01461188, 0.09376939])"
      ]
     },
     "execution_count": 339,
     "metadata": {},
     "output_type": "execute_result"
    }
   ],
   "source": [
    "x_ksi = x[:5,:]\n",
    "R_sq = np.zeros(5)\n",
    "for i in range(5):\n",
    "    y = x_ksi[i, :]\n",
    "    TSS = np.sum(np.square(y - np.mean(y)))\n",
    "    \n",
    "    psi = np.ones((50,5))\n",
    "    psi[:,1:] = np.delete(x_ksi,i,0).T\n",
    "    F_inv = np.linalg.inv(psi.T@psi)\n",
    "    beta = F_inv@psi.T@y\n",
    "    RSS = (y - psi@beta).T @ (y - psi@beta)\n",
    "    \n",
    "    R_sq[i] = 1 - RSS/TSS\n",
    "R_sq"
   ]
  },
  {
   "cell_type": "markdown",
   "id": "d3ea3316",
   "metadata": {},
   "source": [
    "=> ξ не являются мультиколлинеарными"
   ]
  },
  {
   "cell_type": "markdown",
   "id": "57a11ffd",
   "metadata": {},
   "source": [
    "## b)"
   ]
  },
  {
   "cell_type": "code",
   "execution_count": 340,
   "id": "027f628f",
   "metadata": {},
   "outputs": [
    {
     "data": {
      "text/plain": [
       "array([ 2.33656904, -2.65579625,  0.31028481, -1.05338692,  2.74274886,\n",
       "        2.12574325])"
      ]
     },
     "execution_count": 340,
     "metadata": {},
     "output_type": "execute_result"
    }
   ],
   "source": [
    "# \"вручную\" (β[0] - у нас последний коэффициент)\n",
    "target_eta = np.array([x[5,0], x[5,12], x[5,19], x[5,25], x[5,38], x[5,49]])\n",
    "target_ksi = np.ones((6,6))\n",
    "for i in range(5):\n",
    "    target_ksi[i, :] = np.array([x[i,0], x[i,12], x[5,19], x[i,25], x[i,38], x[i,49]])\n",
    "betas_hand = linalg.solve(target_ksi, target_eta)\n",
    "betas_hand"
   ]
  },
  {
   "cell_type": "code",
   "execution_count": 341,
   "id": "148e9933",
   "metadata": {},
   "outputs": [
    {
     "data": {
      "text/plain": [
       "array([ 2.89952826, -1.82314712,  1.04053171,  0.92765595, -1.1462501 ])"
      ]
     },
     "execution_count": 341,
     "metadata": {},
     "output_type": "execute_result"
    }
   ],
   "source": [
    "# с помощью встроенной библиотеки для линейной регресси, без нулевого веса\n",
    "x_reg = x[:5,:].T\n",
    "y_reg = x[5,:]\n",
    "reg = LinearRegression().fit(x_reg, y_reg)\n",
    "betas = reg.coef_\n",
    "betas"
   ]
  },
  {
   "cell_type": "code",
   "execution_count": 342,
   "id": "e97d0eeb",
   "metadata": {},
   "outputs": [],
   "source": [
    "# проверяем значимость бутстрапом (можно было не бутстрапом, а через t(N-6))\n",
    "delta_boot = np.zeros((1000,5))\n",
    "y = np.zeros((6,50))\n",
    "for i in range(1000):\n",
    "    y[0, :] = np.array(random.sample((x[0,:]).tolist(), N, counts = [100 for i in range(N)])) #хотим двумерную подвыборку или два цикла\n",
    "    for m in range(50):\n",
    "        for k in range(50):\n",
    "            if x[0, k] == y[0, m]:\n",
    "                y[:, m] = x[:, k]\n",
    "                break\n",
    "        \n",
    "    x_boot = y[:5,:].T\n",
    "    y_boot = y[5,:]\n",
    "    reg_boot = LinearRegression().fit(x_boot, y_boot)\n",
    "    betas_boot = reg_boot.coef_\n",
    "    delta_boot[i, :] = np.abs(betas_boot - betas)"
   ]
  },
  {
   "cell_type": "code",
   "execution_count": 343,
   "id": "774f03fd",
   "metadata": {},
   "outputs": [
    {
     "name": "stdout",
     "output_type": "stream",
     "text": [
      "0.0\n",
      "отвергаем гипотезу о незначимости коэффициента beta1\n",
      "0.0\n",
      "отвергаем гипотезу о незначимости коэффициента beta2\n",
      "0.002\n",
      "отвергаем гипотезу о незначимости коэффициента beta3\n",
      "0.001\n",
      "отвергаем гипотезу о незначимости коэффициента beta4\n",
      "0.002\n",
      "отвергаем гипотезу о незначимости коэффициента beta5\n"
     ]
    }
   ],
   "source": [
    "for i in range(5):\n",
    "    m = sum(np.sort(delta_boot[:, i])>=abs(betas[i]))\n",
    "    p_value = m/1000\n",
    "    print(p_value)\n",
    "    if p_value > 0.05:\n",
    "        print('нет оснований отвергнуть гипотезу о незначимости коэффициента beta', i+1, sep='')\n",
    "    else:\n",
    "        print('отвергаем гипотезу о незначимости коэффициента beta', i+1, sep='')"
   ]
  },
  {
   "cell_type": "code",
   "execution_count": 344,
   "id": "18ee4819",
   "metadata": {},
   "outputs": [
    {
     "name": "stdout",
     "output_type": "stream",
     "text": [
      "0.0\n",
      "отвергаем гипотезу о незначимости коэффициента beta1\n",
      "6.17284001691587e-14\n",
      "отвергаем гипотезу о незначимости коэффициента beta2\n",
      "2.7280707470822563e-08\n",
      "отвергаем гипотезу о незначимости коэффициента beta3\n",
      "2.9759530706385817e-07\n",
      "отвергаем гипотезу о незначимости коэффициента beta4\n",
      "5.1179480653473775e-09\n",
      "отвергаем гипотезу о незначимости коэффициента beta5\n"
     ]
    }
   ],
   "source": [
    "# сделаем не через бутстрап\n",
    "for i in range(5):\n",
    "    deltas = betas[i]/np.sqrt(RSS*F_inv[i,i])*(N-6)**0.5\n",
    "    p_values = 2*(1 - t.cdf(abs(deltas), N-6))\n",
    "    print(p_values)\n",
    "    if p_values > 0.05:\n",
    "        print('нет оснований отвергнуть гипотезу о незначимости коэффициента beta', i+1, sep='')\n",
    "    else:\n",
    "        print('отвергаем гипотезу о незначимости коэффициента beta', i+1, sep='')"
   ]
  },
  {
   "cell_type": "markdown",
   "id": "7a558660",
   "metadata": {},
   "source": [
    "## c)"
   ]
  },
  {
   "cell_type": "code",
   "execution_count": 345,
   "id": "34f24bcc",
   "metadata": {},
   "outputs": [
    {
     "name": "stdout",
     "output_type": "stream",
     "text": [
      "коэффициент детерминации: 0.7646153986762193\n"
     ]
    }
   ],
   "source": [
    "y = x[5, :]\n",
    "TSS = np.sum(np.square(y - np.mean(y)))\n",
    "    \n",
    "psi = np.ones((50,6))\n",
    "psi[:,1:] = np.delete(x,5,0).T\n",
    "F_inv = np.linalg.inv(psi.T@psi)\n",
    "beta = F_inv@psi.T@y\n",
    "RSS = (y - psi@beta).T @ (y - psi@beta)\n",
    "    \n",
    "R_eta = 1 - RSS/TSS\n",
    "\n",
    "print('коэффициент детерминации: ', R_eta, sep='')"
   ]
  },
  {
   "cell_type": "code",
   "execution_count": 346,
   "id": "30f36c08",
   "metadata": {},
   "outputs": [
    {
     "data": {
      "text/plain": [
       "12.386272757412321"
      ]
     },
     "execution_count": 346,
     "metadata": {},
     "output_type": "execute_result"
    }
   ],
   "source": [
    "delta_est = R_eta**2/(1-R_eta**2) * (N - 6)/(6-1)\n",
    "delta_est"
   ]
  },
  {
   "cell_type": "markdown",
   "id": "005f690f",
   "metadata": {},
   "source": [
    "Δ ~ F(6-1,50-1) = F(5,49)"
   ]
  },
  {
   "cell_type": "code",
   "execution_count": 347,
   "id": "70425e5e",
   "metadata": {},
   "outputs": [
    {
     "data": {
      "text/plain": [
       "8.685118990658935e-08"
      ]
     },
     "execution_count": 347,
     "metadata": {},
     "output_type": "execute_result"
    }
   ],
   "source": [
    "p_value = 1 - f.cdf(np.abs(delta_est), 6-1, N-1)\n",
    "p_value"
   ]
  },
  {
   "cell_type": "markdown",
   "id": "3bcc5c02",
   "metadata": {},
   "source": [
    "=> отвергаем гипотезу о незначимости коэффициента детерминации"
   ]
  },
  {
   "cell_type": "markdown",
   "id": "a07fe04f",
   "metadata": {},
   "source": [
    "## d)"
   ]
  },
  {
   "cell_type": "code",
   "execution_count": 348,
   "id": "e73f921d",
   "metadata": {},
   "outputs": [
    {
     "name": "stdout",
     "output_type": "stream",
     "text": [
      "рандомное значение в нуле: 1.0540166057619147\n"
     ]
    }
   ],
   "source": [
    "a_0 = 2\n",
    "eta_0 = norm.rvs(a_0, 1.5)\n",
    "print ('рандомное значение в нуле: ', eta_0, sep='')"
   ]
  },
  {
   "cell_type": "code",
   "execution_count": 349,
   "id": "6d00c305",
   "metadata": {},
   "outputs": [
    {
     "name": "stdout",
     "output_type": "stream",
     "text": [
      "доверительный интервал: (-1.9532612359347588, 3.8633486506199612)\n"
     ]
    }
   ],
   "source": [
    "# построим численный доверительный интервал\n",
    "delta_int = np.zeros(1000)\n",
    "for i in range(1000):\n",
    "    eta_boot = norm.rvs(a_0, 1.5)\n",
    "    delta_int[i] = eta_boot - eta_0\n",
    "print('доверительный интервал: (', np.sort(delta_int)[24], ', ', np.sort(delta_int)[974], ')', sep='')"
   ]
  },
  {
   "cell_type": "markdown",
   "id": "d224d8cb",
   "metadata": {},
   "source": [
    "## e)"
   ]
  },
  {
   "cell_type": "code",
   "execution_count": 350,
   "id": "6d710bbe",
   "metadata": {},
   "outputs": [
    {
     "data": {
      "text/plain": [
       "array([-0.24726988, -0.00890234, -0.61982416, -0.07147556,  0.43725623,\n",
       "        0.38270074, -0.3592887 , -1.0187238 ,  1.83686518, -0.72188018,\n",
       "        1.06837631,  1.07615762,  0.61361049, -0.5158088 , -0.3180563 ,\n",
       "        1.81869033, -0.06289523,  1.34588503, -2.60249845,  0.81193918,\n",
       "        0.00686419,  1.41271796, -0.60664883, -0.98532389,  0.18864711,\n",
       "       -0.15424141,  1.14473752, -0.22017931,  3.46599444,  1.24786995,\n",
       "        0.04072783, -0.45964323, -0.064818  , -1.34655458,  0.41399606,\n",
       "        1.99932542, -2.3769679 ,  2.43521829, -0.72747095, -1.2086683 ,\n",
       "       -1.02811503, -1.56477122, -2.97336894, -1.39377595,  0.15046273,\n",
       "        0.76492712, -0.30241523,  0.39783542,  1.07396806, -2.17518704])"
      ]
     },
     "execution_count": 350,
     "metadata": {},
     "output_type": "execute_result"
    }
   ],
   "source": [
    "y = x[5,:]\n",
    "e = np.zeros(50)\n",
    "psi = np.ones((50,6))\n",
    "psi[:,1:] = np.delete(x,5,0).T\n",
    "F_inv = np.linalg.inv(psi.T@psi)\n",
    "beta = F_inv@psi.T@y\n",
    "e = y - psi@beta\n",
    "e"
   ]
  },
  {
   "cell_type": "code",
   "execution_count": 351,
   "id": "700ea88b",
   "metadata": {},
   "outputs": [
    {
     "data": {
      "text/plain": [
       "674"
      ]
     },
     "execution_count": 351,
     "metadata": {},
     "output_type": "execute_result"
    }
   ],
   "source": [
    "I=0\n",
    "for i in range(N):\n",
    "    for j in range (i+1, N):\n",
    "        if(e[i] > e[j]):\n",
    "            I += 1\n",
    "I"
   ]
  },
  {
   "cell_type": "markdown",
   "id": "55c6cbe5",
   "metadata": {},
   "source": [
    "Δ ~> N(0,1)"
   ]
  },
  {
   "cell_type": "code",
   "execution_count": 352,
   "id": "49186d0f",
   "metadata": {},
   "outputs": [
    {
     "data": {
      "text/plain": [
       "0.29662901888552495"
      ]
     },
     "execution_count": 352,
     "metadata": {},
     "output_type": "execute_result"
    }
   ],
   "source": [
    "delta_est = (I - N*(N-1)/4)/(N**3/36)**0.5\n",
    "p_value = 2*(1 - norm.cdf(abs(delta_est)))\n",
    "p_value"
   ]
  },
  {
   "cell_type": "markdown",
   "id": "b95e1177",
   "metadata": {},
   "source": [
    "=> нет оснований отвергнуть гипотезу о независимости ошибок измерения"
   ]
  },
  {
   "cell_type": "markdown",
   "id": "248268cd",
   "metadata": {},
   "source": [
    "## g)"
   ]
  },
  {
   "cell_type": "code",
   "execution_count": 353,
   "id": "f778a78f",
   "metadata": {},
   "outputs": [],
   "source": [
    "eps = np.zeros(50)\n",
    "eps = x[5,:] - reg.predict(x_reg)"
   ]
  },
  {
   "cell_type": "code",
   "execution_count": 354,
   "id": "2dc17a06",
   "metadata": {},
   "outputs": [
    {
     "data": {
      "text/plain": [
       "1.105480053182846"
      ]
     },
     "execution_count": 354,
     "metadata": {},
     "output_type": "execute_result"
    }
   ],
   "source": [
    "sigma = np.median(np.abs(eps))/0.675\n",
    "sigma"
   ]
  },
  {
   "cell_type": "code",
   "execution_count": 373,
   "id": "0c07ed59",
   "metadata": {},
   "outputs": [
    {
     "name": "stdout",
     "output_type": "stream",
     "text": [
      "18 является выбросом: eta = -2.6024984528218518\n",
      "28 является выбросом: eta = 3.4659944402486875\n",
      "36 является выбросом: eta = -2.3769679001347654\n",
      "37 является выбросом: eta = 2.43521828533284\n",
      "42 является выбросом: eta = -2.973368938862827\n"
     ]
    }
   ],
   "source": [
    "quantity = 0\n",
    "for i in range(50):\n",
    "    if eps[i]<=-2*sigma or eps[i]>=2*sigma:\n",
    "        quantity+=1\n",
    "        print(i, ' является выбросом: eta = ', eps[i], sep='')\n",
    "if quantity == 0:\n",
    "    print('выбросов нет!')"
   ]
  },
  {
   "cell_type": "markdown",
   "id": "c1aa045c",
   "metadata": {},
   "source": [
    "## f)"
   ]
  },
  {
   "cell_type": "code",
   "execution_count": 356,
   "id": "860c00b4",
   "metadata": {},
   "outputs": [],
   "source": [
    "#Колмогоров\n",
    "\n",
    "def F_est(x):\n",
    "    F = np.zeros(x.shape[0])\n",
    "    for i in range(x.shape[0]):\n",
    "        F[i] = np.argsort(x)[i]/x.shape[0]\n",
    "    return F"
   ]
  },
  {
   "cell_type": "code",
   "execution_count": 357,
   "id": "5fd5ef8b",
   "metadata": {},
   "outputs": [
    {
     "name": "stdout",
     "output_type": "stream",
     "text": [
      "оценка дисперсии: 1.2694315525529103\n"
     ]
    }
   ],
   "source": [
    "teta2_est = (np.sum(np.square(eps))/N)**0.5\n",
    "print('оценка дисперсии: ', teta2_est, sep = '')"
   ]
  },
  {
   "cell_type": "code",
   "execution_count": 358,
   "id": "a1fd17c7",
   "metadata": {},
   "outputs": [
    {
     "data": {
      "text/plain": [
       "6.147791029959771"
      ]
     },
     "execution_count": 358,
     "metadata": {},
     "output_type": "execute_result"
    }
   ],
   "source": [
    "delta_eps = N**0.5 * np.max(np.abs(F_est(eps) - norm.cdf(eps, 0, teta2_est)))\n",
    "delta_eps"
   ]
  },
  {
   "cell_type": "code",
   "execution_count": 359,
   "id": "0e2a1def",
   "metadata": {},
   "outputs": [
    {
     "data": {
      "text/plain": [
       "0.5252"
      ]
     },
     "execution_count": 359,
     "metadata": {},
     "output_type": "execute_result"
    }
   ],
   "source": [
    "delta_boot = np.zeros(10000)\n",
    "for i in range(10000):\n",
    "    y = np.array(random.sample((eps).tolist(), N, counts = [100 for i in range(N)]))\n",
    "    teta2_boot = (np.sum(np.square(y))/N)**0.5\n",
    "    F = norm(0, teta2_boot)\n",
    "    delta_boot[i] = N**0.5 * np.max(abs(F_est(eps) - F.cdf(eps)))\n",
    "k = sum(delta_boot < delta_eps)+1\n",
    "p_value = 1 - (k-1)/10000\n",
    "p_value"
   ]
  },
  {
   "cell_type": "markdown",
   "id": "7b4ae413",
   "metadata": {},
   "source": [
    "=> нет оснований отвергнуть гипотезу о нормальности распределения ошибок"
   ]
  },
  {
   "cell_type": "markdown",
   "id": "a3da350b",
   "metadata": {},
   "source": [
    "## h)"
   ]
  },
  {
   "cell_type": "code",
   "execution_count": 360,
   "id": "2cdd0c54",
   "metadata": {},
   "outputs": [
    {
     "data": {
      "text/plain": [
       "array([6.97986287e-02, 1.04462007e-04, 5.30353301e-01, 5.73792333e-03,\n",
       "       2.22591887e-01, 2.19539753e-01, 1.61587795e-01, 1.43190490e+00,\n",
       "       4.11431080e+00, 6.61199953e-01, 1.30927128e+00, 1.51148497e+00,\n",
       "       5.30951624e-01, 3.25628289e-01, 1.27366085e-01, 4.00432770e+00,\n",
       "       4.48905043e-03, 2.47615221e+00, 8.71858492e+00, 8.56464109e-01,\n",
       "       6.90959878e-05, 2.82996394e+00, 4.92175404e-01, 1.10107773e+00,\n",
       "       4.37807250e-02, 3.18576717e-02, 1.61527358e+00, 5.85999352e-02,\n",
       "       1.56024703e+01, 2.12384481e+00, 2.17765425e-03, 2.73966781e-01,\n",
       "       5.93438481e-03, 2.46231842e+00, 2.23601631e-01, 5.04018891e+00,\n",
       "       8.21890074e+00, 6.68663289e+00, 6.00977300e-01, 1.99740939e+00,\n",
       "       1.42629625e+00, 3.13151932e+00, 1.31682850e+01, 3.16158535e+00,\n",
       "       2.76823216e-02, 7.32237655e-01, 1.25587284e-01, 1.85554474e-01,\n",
       "       1.63045795e+00, 6.05723072e+00])"
      ]
     },
     "execution_count": 360,
     "metadata": {},
     "output_type": "execute_result"
    }
   ],
   "source": [
    "cv = np.zeros(50)\n",
    "for i in range(50):\n",
    "    x_test = x[:5,i].reshape((5,1)).T\n",
    "    y_test = x[5,i]\n",
    "    x_train = np.delete(x[:5,:].T, i, 0)\n",
    "    y_train = np.delete(x[5,:], i)\n",
    "    reg_cv = LinearRegression().fit(x_train, y_train)\n",
    "    cv[i] = (reg_cv.predict(x_test) - y_test)**2\n",
    "cv"
   ]
  },
  {
   "cell_type": "code",
   "execution_count": 361,
   "id": "db1659fc",
   "metadata": {},
   "outputs": [
    {
     "data": {
      "text/plain": [
       "0.6893408782972705"
      ]
     },
     "execution_count": 361,
     "metadata": {},
     "output_type": "execute_result"
    }
   ],
   "source": [
    "CVSS = np.sum(cv)\n",
    "TSS = np.sum(np.square(x[5,:] - np.mean(x[5,:])))\n",
    "R_cv = 1 - CVSS/TSS\n",
    "R_cv"
   ]
  },
  {
   "cell_type": "markdown",
   "id": "1610dd9f",
   "metadata": {},
   "source": [
    "## i)"
   ]
  },
  {
   "cell_type": "code",
   "execution_count": 362,
   "id": "e48d93c9",
   "metadata": {},
   "outputs": [
    {
     "data": {
      "text/plain": [
       "0.5192048451449349"
      ]
     },
     "execution_count": 362,
     "metadata": {},
     "output_type": "execute_result"
    }
   ],
   "source": [
    "# пусть все ξ = 0.5\n",
    "RSS = (x[5,:] - psi@beta).T @ (x[5,:] - psi@beta)\n",
    "b = 2 + 0.5*(3-2+1+1-1)\n",
    "eta_ad = np.zeros(5)\n",
    "for i in range(5):\n",
    "    eta_ad[i] = norm.rvs(b, 1.5)\n",
    "sigma_cap = 1/4*np.sum(np.square(eta_ad - np.mean(eta_ad)))\n",
    "delta_est = RSS/((N-6)*sigma_cap)\n",
    "delta_est"
   ]
  },
  {
   "cell_type": "code",
   "execution_count": 363,
   "id": "2137db03",
   "metadata": {},
   "outputs": [
    {
     "data": {
      "text/plain": [
       "0.8770694195943787"
      ]
     },
     "execution_count": 363,
     "metadata": {},
     "output_type": "execute_result"
    }
   ],
   "source": [
    "p_value = 1 - f.cdf(np.abs(delta_est), N-6, 4)\n",
    "p_value"
   ]
  },
  {
   "cell_type": "markdown",
   "id": "354b55a5",
   "metadata": {},
   "source": [
    "=> нет оснований отвергнуть гипотезу об адекватности модели"
   ]
  },
  {
   "cell_type": "markdown",
   "id": "b6647357",
   "metadata": {},
   "source": [
    "## j)"
   ]
  },
  {
   "cell_type": "code",
   "execution_count": 364,
   "id": "e47b04db",
   "metadata": {},
   "outputs": [
    {
     "name": "stdout",
     "output_type": "stream",
     "text": [
      "0.0\n",
      "отвергаем гипотезу о незначимости коэффициента beta1\n",
      "0.0\n",
      "отвергаем гипотезу о незначимости коэффициента beta2\n",
      "0.003\n",
      "отвергаем гипотезу о незначимости коэффициента beta3\n",
      "0.002\n",
      "отвергаем гипотезу о незначимости коэффициента beta4\n"
     ]
    }
   ],
   "source": [
    "x_simpl = np.delete(x,3,0)\n",
    "\n",
    "#b)\n",
    "x_reg = x_simpl[:4,:].T\n",
    "y_reg = x_simpl[4,:]\n",
    "reg = LinearRegression().fit(x_reg, y_reg)\n",
    "betas = reg.coef_\n",
    "\n",
    "delta_boot = np.zeros((1000,4))\n",
    "y = np.zeros((5,50))\n",
    "for i in range(1000):\n",
    "    y[0, :] = np.array(random.sample((x_simpl[0,:]).tolist(), N, counts = [100 for i in range(N)])) #хотим двумерную подвыборку или два цикла\n",
    "    for m in range(50):\n",
    "        for k in range(50):\n",
    "            if x_simpl[0, k] == y[0, m]:\n",
    "                y[:, m] = x_simpl[:, k]\n",
    "                break\n",
    "        \n",
    "    x_boot = y[:4,:].T\n",
    "    y_boot = y[4,:]\n",
    "    reg_boot = LinearRegression().fit(x_boot, y_boot)\n",
    "    betas_boot = reg_boot.coef_\n",
    "    delta_boot[i, :] = np.abs(betas_boot - betas)\n",
    "\n",
    "for i in range(4):\n",
    "    m = sum(np.sort(delta_boot[:, i])>=abs(betas[i]))\n",
    "    p_value = m/1000\n",
    "    print(p_value)\n",
    "    if p_value > 0.05:\n",
    "        print('нет оснований отвергнуть гипотезу о незначимости коэффициента beta', i+1, sep='')\n",
    "    else:\n",
    "        print('отвергаем гипотезу о незначимости коэффициента beta', i+1, sep='')"
   ]
  },
  {
   "cell_type": "code",
   "execution_count": 365,
   "id": "1e5f4a54",
   "metadata": {},
   "outputs": [
    {
     "name": "stdout",
     "output_type": "stream",
     "text": [
      "коэффициент детерминации: 0.7236233239483509\n",
      "p_value: 4.995221035697384e-07\n"
     ]
    }
   ],
   "source": [
    "#c)\n",
    "TSS = np.sum(np.square(x_simpl[4] - np.mean(x_simpl[4])))\n",
    "    \n",
    "psi = np.ones((50,5))\n",
    "psi[:,1:] = np.delete(x_simpl,4,0).T\n",
    "F_inv = np.linalg.inv(psi.T@psi)\n",
    "beta = F_inv@psi.T@x_simpl[4]\n",
    "RSS1 = (x_simpl[4] - psi@beta).T @ (x_simpl[4] - psi@beta)\n",
    "    \n",
    "R_sqrt = 1 - RSS1/TSS\n",
    "\n",
    "delta_est = R_sqrt**2/(1-R_sqrt**2) * (N - 5)/(5-1)\n",
    "p_value = 1 - f.cdf(np.abs(delta_est), 5-1, N-1)\n",
    "print('коэффициент детерминации: ', R_sqrt, sep='')\n",
    "print('p_value: ', p_value, sep='')"
   ]
  },
  {
   "cell_type": "markdown",
   "id": "a7a240ac",
   "metadata": {},
   "source": [
    "=> отвергаем гипотезу о незначимости коэффициента детерминации"
   ]
  },
  {
   "cell_type": "code",
   "execution_count": 366,
   "id": "562cf245",
   "metadata": {},
   "outputs": [
    {
     "data": {
      "text/plain": [
       "array([ 2.9228148 , -1.85641035,  1.01967746, -1.22989382])"
      ]
     },
     "execution_count": 366,
     "metadata": {},
     "output_type": "execute_result"
    }
   ],
   "source": [
    "betas"
   ]
  },
  {
   "cell_type": "code",
   "execution_count": 371,
   "id": "3559014b",
   "metadata": {},
   "outputs": [
    {
     "data": {
      "text/plain": [
       "0.19206696620648134"
      ]
     },
     "execution_count": 371,
     "metadata": {},
     "output_type": "execute_result"
    }
   ],
   "source": [
    "delta = (RSS1 - RSS)/RSS * (N-6)\n",
    "p_value = 1 - f.cdf(delta,N-6,1)\n",
    "p_value"
   ]
  },
  {
   "cell_type": "markdown",
   "id": "1b0ae1d8",
   "metadata": {},
   "source": [
    "=> нет оснований отвергнуть гипотезу о том, что усложнение модели не является значимым"
   ]
  },
  {
   "cell_type": "markdown",
   "id": "c6935561",
   "metadata": {},
   "source": [
    "## k)"
   ]
  },
  {
   "cell_type": "code",
   "execution_count": 368,
   "id": "fac50724",
   "metadata": {},
   "outputs": [
    {
     "data": {
      "text/plain": [
       "0.345"
      ]
     },
     "execution_count": 368,
     "metadata": {},
     "output_type": "execute_result"
    }
   ],
   "source": [
    "delta_boot = np.zeros(1000)\n",
    "y = np.zeros((5,50))\n",
    "for i in range(1000):\n",
    "    y[0, :] = np.array(random.sample((x_simpl[0,:]).tolist(), N, counts = [100 for i in range(N)])) #хотим двумерную подвыборку или два цикла\n",
    "    for m in range(50):\n",
    "        for k in range(50):\n",
    "            if x_simpl[0, k] == y[0, m]:\n",
    "                y[:, m] = x_simpl[:, k]\n",
    "                break\n",
    "        \n",
    "    TSS = np.sum(np.square(y[4] - np.mean(y[4])))\n",
    "    \n",
    "    psi = np.ones((50,5))\n",
    "    psi[:,1:] = np.delete(y,4,0).T\n",
    "    F_inv = np.linalg.inv(psi.T@psi)\n",
    "    beta = F_inv@psi.T@y[4]\n",
    "    RSS1 = (y[4] - psi@beta).T @ (y[4] - psi@beta)\n",
    "\n",
    "    R_boot = 1 - RSS1/TSS\n",
    "    delta_boot[i] = R_eta - R_boot\n",
    "\n",
    "delta_est = R_eta - R_sqrt\n",
    "m = sum(delta_boot >= delta_est)\n",
    "p_value = m/1000\n",
    "p_value"
   ]
  },
  {
   "cell_type": "markdown",
   "id": "da8ad3d0",
   "metadata": {},
   "source": [
    "=> нет оснований отвергнуть гипотезу о том, что усложнение модели не является значимым"
   ]
  }
 ],
 "metadata": {
  "kernelspec": {
   "display_name": "Python 3 (ipykernel)",
   "language": "python",
   "name": "python3"
  },
  "language_info": {
   "codemirror_mode": {
    "name": "ipython",
    "version": 3
   },
   "file_extension": ".py",
   "mimetype": "text/x-python",
   "name": "python",
   "nbconvert_exporter": "python",
   "pygments_lexer": "ipython3",
   "version": "3.9.7"
  }
 },
 "nbformat": 4,
 "nbformat_minor": 5
}
