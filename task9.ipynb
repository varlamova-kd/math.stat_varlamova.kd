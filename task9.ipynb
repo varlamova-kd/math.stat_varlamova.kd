{
 "cells": [
  {
   "cell_type": "code",
   "execution_count": 183,
   "id": "16a20f0d",
   "metadata": {},
   "outputs": [],
   "source": [
    "import numpy as np\n",
    "import math\n",
    "from scipy.stats import norm, uniform, chi2\n",
    "import scipy\n",
    "import random\n",
    "import matplotlib.pyplot as plt"
   ]
  },
  {
   "cell_type": "code",
   "execution_count": 184,
   "id": "a26c3b1a",
   "metadata": {},
   "outputs": [],
   "source": [
    "kols = np.array([5, 8, 6, 12, 14, 18, 11, 6, 13, 7])\n",
    "x = np.arange(10)\n",
    "N = 100"
   ]
  },
  {
   "cell_type": "markdown",
   "id": "300c2c65",
   "metadata": {},
   "source": [
    "## a)"
   ]
  },
  {
   "cell_type": "code",
   "execution_count": 185,
   "id": "adba589e",
   "metadata": {},
   "outputs": [],
   "source": [
    "def F_est(x):\n",
    "    F = np.zeros(x.shape[0])\n",
    "    for i in range(x.shape[0]):\n",
    "        F[i] = np.sum(kols[:i])/N\n",
    "    return F"
   ]
  },
  {
   "cell_type": "code",
   "execution_count": 186,
   "id": "033b1eb9",
   "metadata": {},
   "outputs": [
    {
     "data": {
      "text/plain": [
       "array([0.  , 0.05, 0.13, 0.19, 0.31, 0.45, 0.63, 0.74, 0.8 , 0.93])"
      ]
     },
     "execution_count": 186,
     "metadata": {},
     "output_type": "execute_result"
    }
   ],
   "source": [
    "F_est(x)"
   ]
  },
  {
   "cell_type": "code",
   "execution_count": 187,
   "id": "83d7827c",
   "metadata": {},
   "outputs": [
    {
     "data": {
      "text/plain": [
       "array([0.05, 0.15, 0.25, 0.35, 0.45, 0.55, 0.65, 0.75, 0.85, 0.95])"
      ]
     },
     "execution_count": 187,
     "metadata": {},
     "output_type": "execute_result"
    }
   ],
   "source": [
    "uniform.cdf(x, loc=-0.5, scale = 10)"
   ]
  },
  {
   "cell_type": "code",
   "execution_count": 188,
   "id": "06fed3b9",
   "metadata": {},
   "outputs": [],
   "source": [
    "F_max = np.zeros(10)\n",
    "for i in range(9):\n",
    "    F_max[i] = max(abs(F_est(x)[i]-uniform.cdf(x=x[i],loc=-0.5,scale = 10)), abs(F_est(x)[i+1]-uniform.cdf(x=x[i],loc=-0.5,scale=10)))\n",
    "F_max[9] = max(abs(F_est(x)[9]-uniform.cdf(x=x[9],loc=-0.5,scale=10)), abs(1-uniform.cdf(x=x[i],loc=-0.5,scale=10)))"
   ]
  },
  {
   "cell_type": "code",
   "execution_count": 189,
   "id": "776926cc",
   "metadata": {},
   "outputs": [
    {
     "data": {
      "text/plain": [
       "1.5999999999999996"
      ]
     },
     "execution_count": 189,
     "metadata": {},
     "output_type": "execute_result"
    }
   ],
   "source": [
    "delta_est = N**0.5*np.max(F_max)\n",
    "delta_est"
   ]
  },
  {
   "cell_type": "code",
   "execution_count": 190,
   "id": "d8ba36f3",
   "metadata": {},
   "outputs": [
    {
     "data": {
      "text/plain": [
       "0.011952043239196658"
      ]
     },
     "execution_count": 190,
     "metadata": {},
     "output_type": "execute_result"
    }
   ],
   "source": [
    "p_value = 0\n",
    "for i in range(1,10000):\n",
    "    p_value += -2*(-1)**i*np.exp(-2*i**2*delta_est**2)\n",
    "p_value"
   ]
  },
  {
   "cell_type": "markdown",
   "id": "8993b58b",
   "metadata": {},
   "source": [
    "=> отвергаем гипотезу о равномерном распределении (ненадежно)"
   ]
  },
  {
   "cell_type": "markdown",
   "id": "11679dc5",
   "metadata": {},
   "source": [
    "## b)"
   ]
  },
  {
   "cell_type": "markdown",
   "id": "0b49e219",
   "metadata": {},
   "source": [
    "**Пирсон**"
   ]
  },
  {
   "cell_type": "code",
   "execution_count": 191,
   "id": "7c58d51e",
   "metadata": {},
   "outputs": [
    {
     "name": "stdout",
     "output_type": "stream",
     "text": [
      "max L: 3.0593403271713064e-99\n",
      "оценка мат. ожидания: 4.800000000000002\n",
      "оценка дисперсии: 2.700000000000001\n"
     ]
    }
   ],
   "source": [
    "p = np.zeros(10)\n",
    "L_max = 0\n",
    "teta1_arr = np.arange(3., 6., 0.1)\n",
    "teta2_arr = np.arange(1.5, 3.5, 0.1)\n",
    "teta1_est = 0\n",
    "teta2_est = 0\n",
    "i = 0\n",
    "for teta1 in teta1_arr:\n",
    "    for teta2 in teta2_arr:\n",
    "        p[0] = 0.5*(1 + math.erf((0+0.5-teta1)/(teta2*2**0.5))) - 0.5*(1 + math.erf((float('-inf')-teta1)/(teta2*2**0.5)))\n",
    "        p[9] = 0.5*(1 + math.erf((float('inf')-teta1)/(teta2*2**0.5))) - 0.5*(1 + math.erf((9-0.5-teta1)/(teta2*2**0.5)))\n",
    "        L = p[0]**kols[0] * p[9]**kols[9]\n",
    "        for k in range(1,9):\n",
    "            p[k] = 0.5*(1 + math.erf((k+0.5-teta1)/(teta2*2**0.5))) - 0.5*(1 + math.erf((k-0.5-teta1)/(teta2*2**0.5)))\n",
    "            L = L*p[k]**kols[k]\n",
    "        if L > L_max:\n",
    "            L_max = L\n",
    "            teta1_est = teta1\n",
    "            teta2_est = teta2\n",
    "print('max L: ', L_max, '\\nоценка мат. ожидания: ', teta1_est, '\\nоценка дисперсии: ', teta2_est, sep = '')"
   ]
  },
  {
   "cell_type": "code",
   "execution_count": 192,
   "id": "24812b48",
   "metadata": {},
   "outputs": [
    {
     "data": {
      "text/plain": [
       "array([ 5.56258082,  5.51859931,  8.63363603, 11.79390075, 14.06769499,\n",
       "       14.65182754, 13.32491391, 10.58132127,  7.33695957,  8.52856582])"
      ]
     },
     "execution_count": 192,
     "metadata": {},
     "output_type": "execute_result"
    }
   ],
   "source": [
    "p[0] = 0.5*(1 + math.erf((0+0.5-teta1_est)/(teta2_est*2**0.5))) - 0.5*(1 + math.erf((float('-inf')-teta1_est)/(teta2_est*2**0.5)))\n",
    "p[9] = 0.5*(1 + math.erf((float('inf')-teta1_est)/(teta2_est*2**0.5))) - 0.5*(1 + math.erf((9-0.5-teta1_est)/(teta2_est*2**0.5)))\n",
    "for k in range(1,9):\n",
    "    p[k] = 0.5*(1 + math.erf((k+0.5-teta1_est)/(teta2_est*2**0.5))) - 0.5*(1 + math.erf((k-0.5-teta1_est)/(teta2_est*2**0.5)))\n",
    "p*N"
   ]
  },
  {
   "cell_type": "markdown",
   "id": "6434339f",
   "metadata": {},
   "source": [
    "все $$np_{i} > 5 =>$$ не нужно группировать"
   ]
  },
  {
   "cell_type": "code",
   "execution_count": 193,
   "id": "0da20559",
   "metadata": {},
   "outputs": [
    {
     "data": {
      "text/plain": [
       "9.779231990914969"
      ]
     },
     "execution_count": 193,
     "metadata": {},
     "output_type": "execute_result"
    }
   ],
   "source": [
    "components = np.zeros(10)\n",
    "for i in range(10):\n",
    "    components[i] = (kols[i] - p[i]*N)**2 / (p[i]*N)\n",
    "delta_est = np.sum(components)\n",
    "delta_est"
   ]
  },
  {
   "cell_type": "markdown",
   "id": "5c913f6c",
   "metadata": {},
   "source": [
    "Δ ~ χ^2(10-1-2) = χ^2(7)"
   ]
  },
  {
   "cell_type": "markdown",
   "id": "b567ae93",
   "metadata": {},
   "source": [
    "p-value = P(Δ >= Δ_est|H0) ≈ 0.2"
   ]
  },
  {
   "cell_type": "markdown",
   "id": "84283529",
   "metadata": {},
   "source": [
    "=> нет оснований отвергнуть гипотезу о нормальности"
   ]
  },
  {
   "cell_type": "markdown",
   "id": "1fbdba7e",
   "metadata": {},
   "source": [
    "**Колмогоров**"
   ]
  },
  {
   "cell_type": "markdown",
   "id": "6fed074e",
   "metadata": {},
   "source": [
    "1) Оценим тета1 и тета2 по выборке методом моментов"
   ]
  },
  {
   "cell_type": "code",
   "execution_count": 194,
   "id": "49803f00",
   "metadata": {},
   "outputs": [
    {
     "name": "stdout",
     "output_type": "stream",
     "text": [
      "оценка мат. ожидания: 4.77\n",
      "оценка дисперсии: 2.505414137423193\n"
     ]
    }
   ],
   "source": [
    "teta1_est = np.sum(x*kols)/N\n",
    "teta2_est = (np.sum(np.square(teta1_est - x)*kols)/N)**0.5\n",
    "print('оценка мат. ожидания: ', teta1_est, '\\nоценка дисперсии: ', teta2_est, sep = '')"
   ]
  },
  {
   "cell_type": "markdown",
   "id": "d9973ee8",
   "metadata": {},
   "source": [
    "2) Найдем оценку дельты"
   ]
  },
  {
   "cell_type": "code",
   "execution_count": 195,
   "id": "6c870c39",
   "metadata": {},
   "outputs": [
    {
     "data": {
      "text/plain": [
       "array([0.  , 0.05, 0.13, 0.19, 0.31, 0.45, 0.63, 0.74, 0.8 , 0.93])"
      ]
     },
     "execution_count": 195,
     "metadata": {},
     "output_type": "execute_result"
    }
   ],
   "source": [
    "F_est(x)"
   ]
  },
  {
   "cell_type": "code",
   "execution_count": 196,
   "id": "33beaaf8",
   "metadata": {},
   "outputs": [
    {
     "data": {
      "text/plain": [
       "array([0.02846311, 0.06619531, 0.13444862, 0.23994794, 0.37929442,\n",
       "       0.536572  , 0.68826443, 0.8132865 , 0.90133711, 0.95432736])"
      ]
     },
     "execution_count": 196,
     "metadata": {},
     "output_type": "execute_result"
    }
   ],
   "source": [
    "F = norm(teta1_est, teta2_est)\n",
    "F.cdf(x)"
   ]
  },
  {
   "cell_type": "code",
   "execution_count": 197,
   "id": "75e22925",
   "metadata": {},
   "outputs": [
    {
     "data": {
      "text/plain": [
       "1.013371112422481"
      ]
     },
     "execution_count": 197,
     "metadata": {},
     "output_type": "execute_result"
    }
   ],
   "source": [
    "delta_est = N**0.5 * np.max(abs(F_est(x) - F.cdf(x)))\n",
    "delta_est"
   ]
  },
  {
   "cell_type": "markdown",
   "id": "3bfc4b52",
   "metadata": {},
   "source": [
    "3) Bootstrap"
   ]
  },
  {
   "cell_type": "code",
   "execution_count": 198,
   "id": "f64444ca",
   "metadata": {},
   "outputs": [
    {
     "data": {
      "text/plain": [
       "array([0, 0, 0, 0, 0, 1, 1, 1, 1, 1, 1, 1, 1, 2, 2, 2, 2, 2, 2, 3, 3, 3,\n",
       "       3, 3, 3, 3, 3, 3, 3, 3, 3, 4, 4, 4, 4, 4, 4, 4, 4, 4, 4, 4, 4, 4,\n",
       "       4, 5, 5, 5, 5, 5, 5, 5, 5, 5, 5, 5, 5, 5, 5, 5, 5, 5, 5, 6, 6, 6,\n",
       "       6, 6, 6, 6, 6, 6, 6, 6, 7, 7, 7, 7, 7, 7, 8, 8, 8, 8, 8, 8, 8, 8,\n",
       "       8, 8, 8, 8, 8, 9, 9, 9, 9, 9, 9, 9])"
      ]
     },
     "execution_count": 198,
     "metadata": {},
     "output_type": "execute_result"
    }
   ],
   "source": [
    "x_full = []\n",
    "for i in range(10):\n",
    "    x_full.extend([x[i] for j in range(kols[i])]) #for i in range(10)]\n",
    "x_full = np.array(x_full)\n",
    "x_full"
   ]
  },
  {
   "cell_type": "code",
   "execution_count": 199,
   "id": "55d9a873",
   "metadata": {},
   "outputs": [],
   "source": [
    "delta_boot = np.zeros(10000)\n",
    "for i in range(10000):\n",
    "    y = np.array(random.sample((x_full).tolist(), N, counts = [100 for i in range(N)]))\n",
    "    teta1_boot = np.sum(y)/N\n",
    "    teta2_boot = (np.sum(np.square(teta1_boot - y))/N)**0.5\n",
    "    F = norm(teta1_boot, teta2_boot)\n",
    "    delta_boot[i] = N**0.5 * np.max(abs(F_est(x) - F.cdf(x)))"
   ]
  },
  {
   "cell_type": "code",
   "execution_count": 200,
   "id": "f8c6d3e3",
   "metadata": {},
   "outputs": [
    {
     "data": {
      "text/plain": [
       "4532"
      ]
     },
     "execution_count": 200,
     "metadata": {},
     "output_type": "execute_result"
    }
   ],
   "source": [
    "k = sum(delta_boot < delta_est)+1\n",
    "k"
   ]
  },
  {
   "cell_type": "code",
   "execution_count": 201,
   "id": "a011e4eb",
   "metadata": {},
   "outputs": [
    {
     "data": {
      "text/plain": [
       "0.5468999999999999"
      ]
     },
     "execution_count": 201,
     "metadata": {},
     "output_type": "execute_result"
    }
   ],
   "source": [
    "p_value = 1 - (k-1)/10000\n",
    "p_value"
   ]
  },
  {
   "cell_type": "markdown",
   "id": "d8806c3d",
   "metadata": {},
   "source": [
    "=> нет оснований отвергнуть гипотезу о нормальности"
   ]
  },
  {
   "cell_type": "markdown",
   "id": "49c9aec5",
   "metadata": {},
   "source": [
    "## c)"
   ]
  },
  {
   "cell_type": "code",
   "execution_count": 202,
   "id": "ea176356",
   "metadata": {},
   "outputs": [
    {
     "name": "stdout",
     "output_type": "stream",
     "text": [
      "оценка мат. ожидания: 4.77\n",
      "оценка дисперсии: 2.505414137423193\n"
     ]
    }
   ],
   "source": [
    "teta1_est = np.sum(x*kols)/N\n",
    "teta2_est = (np.sum(np.square(teta1_est - x)*kols)/N)**0.5\n",
    "print('оценка мат. ожидания: ', teta1_est, '\\nоценка дисперсии: ', teta2_est, sep = '')"
   ]
  },
  {
   "cell_type": "code",
   "execution_count": 203,
   "id": "4ee24f3a",
   "metadata": {},
   "outputs": [
    {
     "data": {
      "text/plain": [
       "array([ 4.41616821,  5.17552151,  8.65410163, 12.36537988, 15.09787008,\n",
       "       15.75250246, 14.04461048, 10.7002627 ,  6.96626253,  6.82732051])"
      ]
     },
     "execution_count": 203,
     "metadata": {},
     "output_type": "execute_result"
    }
   ],
   "source": [
    "p[0] = 0.5*(1 + math.erf((0+0.5-teta1_est)/(teta2_est*2**0.5))) - 0.5*(1 + math.erf((float('-inf')-teta1_est)/(teta2_est*2**0.5)))\n",
    "p[9] = 0.5*(1 + math.erf((float('inf')-teta1_est)/(teta2_est*2**0.5))) - 0.5*(1 + math.erf((9-0.5-teta1_est)/(teta2_est*2**0.5)))\n",
    "for k in range(1,9):\n",
    "    p[k] = 0.5*(1 + math.erf((k+0.5-teta1_est)/(teta2_est*2**0.5))) - 0.5*(1 + math.erf((k-0.5-teta1_est)/(teta2_est*2**0.5)))\n",
    "p*N"
   ]
  },
  {
   "cell_type": "markdown",
   "id": "2c9ffc6e",
   "metadata": {},
   "source": [
    "(почти!) все $$np_{i} > 5 =>$$ не группируем"
   ]
  },
  {
   "cell_type": "code",
   "execution_count": 204,
   "id": "2ce883d9",
   "metadata": {},
   "outputs": [
    {
     "data": {
      "text/plain": [
       "10.79897314049978"
      ]
     },
     "execution_count": 204,
     "metadata": {},
     "output_type": "execute_result"
    }
   ],
   "source": [
    "components = np.zeros(10)\n",
    "for i in range(10):\n",
    "    components[i] = (kols[i] - p[i]*N)**2 / (p[i]*N)\n",
    "delta_est = np.sum(components)\n",
    "delta_est"
   ]
  },
  {
   "cell_type": "markdown",
   "id": "a92fc587",
   "metadata": {},
   "source": [
    "Δ ~ χ^2(10-1-2) = χ^2(7)"
   ]
  },
  {
   "cell_type": "markdown",
   "id": "3f4006ec",
   "metadata": {},
   "source": [
    "p-value = P(Δ >= Δ_est|H0) ≈ 0.15"
   ]
  },
  {
   "cell_type": "markdown",
   "id": "719a25bd",
   "metadata": {},
   "source": [
    "=> нет оснований отвергнуть гипотезу о нормальности"
   ]
  },
  {
   "cell_type": "code",
   "execution_count": 206,
   "id": "08cdfe67",
   "metadata": {},
   "outputs": [
    {
     "data": {
      "image/png": "[encoded data removed]",
      "text/plain": [
       "<Figure size 720x504 with 1 Axes>"
      ]
     },
     "metadata": {
      "needs_background": "light"
     },
     "output_type": "display_data"
    }
   ],
   "source": [
    "ax = np.arange(0,10,0.1)\n",
    "plt.figure(figsize=(10,7))\n",
    "plt.plot(ax, norm(teta1_est, teta2_est).cdf(ax), label=\"N(4.77, 2.5)\")\n",
    "plt.plot(ax, chi2.cdf(ax, df = 7), label = 'X^2(7)')\n",
    "plt.plot(ax, chi2.cdf(ax, df = 9), label = 'X^2(9)')\n",
    "plt.title(\"Сравнение распределений\")\n",
    "plt.legend()\n",
    "plt.show()"
   ]
  }
 ],
 "metadata": {
  "kernelspec": {
   "display_name": "Python 3 (ipykernel)",
   "language": "python",
   "name": "python3"
  },
  "language_info": {
   "codemirror_mode": {
    "name": "ipython",
    "version": 3
   },
   "file_extension": ".py",
   "mimetype": "text/x-python",
   "name": "python",
   "nbconvert_exporter": "python",
   "pygments_lexer": "ipython3",
   "version": "3.9.7"
  }
 },
 "nbformat": 4,
 "nbformat_minor": 5
}
