{
 "cells": [
  {
   "cell_type": "code",
   "execution_count": 212,
   "id": "caa479f3",
   "metadata": {},
   "outputs": [],
   "source": [
    "import numpy as np\n",
    "import math\n",
    "from scipy.stats import norm, uniform, chi2\n",
    "import scipy\n",
    "import random\n",
    "import matplotlib.pyplot as plt"
   ]
  },
  {
   "cell_type": "code",
   "execution_count": 213,
   "id": "9316cd63",
   "metadata": {},
   "outputs": [],
   "source": [
    "kols = np.array([5, 8, 6, 12, 14, 18, 11, 6, 13, 7])\n",
    "x = np.arange(10)\n",
    "N = 100"
   ]
  },
  {
   "cell_type": "markdown",
   "id": "df4df6f4",
   "metadata": {},
   "source": [
    "## a)"
   ]
  },
  {
   "cell_type": "code",
   "execution_count": 214,
   "id": "8f2c8652",
   "metadata": {},
   "outputs": [],
   "source": [
    "def F_est(x):\n",
    "    F = np.zeros(x.shape[0])\n",
    "    for i in range(x.shape[0]):\n",
    "        F[i] = np.sum(kols[:i])/N\n",
    "    return F"
   ]
  },
  {
   "cell_type": "code",
   "execution_count": 215,
   "id": "6c181e4f",
   "metadata": {},
   "outputs": [
    {
     "data": {
      "text/plain": [
       "array([0.  , 0.05, 0.13, 0.19, 0.31, 0.45, 0.63, 0.74, 0.8 , 0.93])"
      ]
     },
     "execution_count": 215,
     "metadata": {},
     "output_type": "execute_result"
    }
   ],
   "source": [
    "F_est(x)"
   ]
  },
  {
   "cell_type": "code",
   "execution_count": 216,
   "id": "37e27e80",
   "metadata": {},
   "outputs": [
    {
     "data": {
      "text/plain": [
       "array([0.05, 0.15, 0.25, 0.35, 0.45, 0.55, 0.65, 0.75, 0.85, 0.95])"
      ]
     },
     "execution_count": 216,
     "metadata": {},
     "output_type": "execute_result"
    }
   ],
   "source": [
    "uniform.cdf(x, loc=-0.5, scale = 10)"
   ]
  },
  {
   "cell_type": "code",
   "execution_count": 217,
   "id": "582b3edc",
   "metadata": {},
   "outputs": [],
   "source": [
    "F_max = np.zeros(10)\n",
    "for i in range(9):\n",
    "    F_max[i] = max(abs(F_est(x)[i]-uniform.cdf(x=x[i],loc=-0.5,scale = 10)), abs(F_est(x)[i+1]-uniform.cdf(x=x[i],loc=-0.5,scale=10)))\n",
    "F_max[9] = max(abs(F_est(x)[9]-uniform.cdf(x=x[9],loc=-0.5,scale=10)), abs(1-uniform.cdf(x=x[i],loc=-0.5,scale=10)))"
   ]
  },
  {
   "cell_type": "code",
   "execution_count": 218,
   "id": "de3941ae",
   "metadata": {},
   "outputs": [
    {
     "data": {
      "text/plain": [
       "1.5999999999999996"
      ]
     },
     "execution_count": 218,
     "metadata": {},
     "output_type": "execute_result"
    }
   ],
   "source": [
    "delta_est = N**0.5*np.max(F_max)\n",
    "delta_est"
   ]
  },
  {
   "cell_type": "code",
   "execution_count": 219,
   "id": "f4a068de",
   "metadata": {},
   "outputs": [
    {
     "data": {
      "text/plain": [
       "0.011952043239196658"
      ]
     },
     "execution_count": 219,
     "metadata": {},
     "output_type": "execute_result"
    }
   ],
   "source": [
    "p_value = 0\n",
    "for i in range(1,10000):\n",
    "    p_value += -2*(-1)**i*np.exp(-2*i**2*delta_est**2)\n",
    "p_value"
   ]
  },
  {
   "cell_type": "markdown",
   "id": "13f7a450",
   "metadata": {},
   "source": [
    "=> отвергаем гипотезу о равномерном распределении (ненадежно)"
   ]
  },
  {
   "cell_type": "markdown",
   "id": "f603687c",
   "metadata": {},
   "source": [
    "## b)"
   ]
  },
  {
   "cell_type": "markdown",
   "id": "6c47f14e",
   "metadata": {},
   "source": [
    "**Пирсон**"
   ]
  },
  {
   "cell_type": "code",
   "execution_count": 220,
   "id": "7bb16745",
   "metadata": {},
   "outputs": [
    {
     "name": "stdout",
     "output_type": "stream",
     "text": [
      "max L: 3.0593403271713064e-99\n",
      "оценка мат. ожидания: 4.800000000000002\n",
      "оценка дисперсии: 2.700000000000001\n"
     ]
    }
   ],
   "source": [
    "p = np.zeros(10)\n",
    "L_max = 0\n",
    "teta1_arr = np.arange(3., 6., 0.1)\n",
    "teta2_arr = np.arange(1.5, 3.5, 0.1)\n",
    "teta1_est = 0\n",
    "teta2_est = 0\n",
    "i = 0\n",
    "for teta1 in teta1_arr:\n",
    "    for teta2 in teta2_arr:\n",
    "        p[0] = 0.5*(1 + math.erf((0+0.5-teta1)/(teta2*2**0.5))) - 0.5*(1 + math.erf((float('-inf')-teta1)/(teta2*2**0.5)))\n",
    "        p[9] = 0.5*(1 + math.erf((float('inf')-teta1)/(teta2*2**0.5))) - 0.5*(1 + math.erf((9-0.5-teta1)/(teta2*2**0.5)))\n",
    "        L = p[0]**kols[0] * p[9]**kols[9]\n",
    "        for k in range(1,9):\n",
    "            p[k] = 0.5*(1 + math.erf((k+0.5-teta1)/(teta2*2**0.5))) - 0.5*(1 + math.erf((k-0.5-teta1)/(teta2*2**0.5)))\n",
    "            L = L*p[k]**kols[k]\n",
    "        if L > L_max:\n",
    "            L_max = L\n",
    "            teta1_est = teta1\n",
    "            teta2_est = teta2\n",
    "print('max L: ', L_max, '\\nоценка мат. ожидания: ', teta1_est, '\\nоценка дисперсии: ', teta2_est, sep = '')"
   ]
  },
  {
   "cell_type": "code",
   "execution_count": 221,
   "id": "e189f5ce",
   "metadata": {},
   "outputs": [
    {
     "data": {
      "text/plain": [
       "array([ 5.56258082,  5.51859931,  8.63363603, 11.79390075, 14.06769499,\n",
       "       14.65182754, 13.32491391, 10.58132127,  7.33695957,  8.52856582])"
      ]
     },
     "execution_count": 221,
     "metadata": {},
     "output_type": "execute_result"
    }
   ],
   "source": [
    "p[0] = 0.5*(1 + math.erf((0+0.5-teta1_est)/(teta2_est*2**0.5))) - 0.5*(1 + math.erf((float('-inf')-teta1_est)/(teta2_est*2**0.5)))\n",
    "p[9] = 0.5*(1 + math.erf((float('inf')-teta1_est)/(teta2_est*2**0.5))) - 0.5*(1 + math.erf((9-0.5-teta1_est)/(teta2_est*2**0.5)))\n",
    "for k in range(1,9):\n",
    "    p[k] = 0.5*(1 + math.erf((k+0.5-teta1_est)/(teta2_est*2**0.5))) - 0.5*(1 + math.erf((k-0.5-teta1_est)/(teta2_est*2**0.5)))\n",
    "p*N"
   ]
  },
  {
   "cell_type": "markdown",
   "id": "a007bdd2",
   "metadata": {},
   "source": [
    "все $$np_{i} > 5 =>$$ не нужно группировать"
   ]
  },
  {
   "cell_type": "code",
   "execution_count": 222,
   "id": "76c57ee9",
   "metadata": {},
   "outputs": [
    {
     "data": {
      "text/plain": [
       "9.779231990914969"
      ]
     },
     "execution_count": 222,
     "metadata": {},
     "output_type": "execute_result"
    }
   ],
   "source": [
    "components = np.zeros(10)\n",
    "for i in range(10):\n",
    "    components[i] = (kols[i] - p[i]*N)**2 / (p[i]*N)\n",
    "delta_est = np.sum(components)\n",
    "delta_est"
   ]
  },
  {
   "cell_type": "markdown",
   "id": "253c3863",
   "metadata": {},
   "source": [
    "Δ ~ χ^2(10-1-2) = χ^2(7)"
   ]
  },
  {
   "cell_type": "markdown",
   "id": "3a0bbe88",
   "metadata": {},
   "source": [
    "p-value = P(Δ >= Δ_est|H0) ≈ 0.2"
   ]
  },
  {
   "cell_type": "markdown",
   "id": "0fcbd8f7",
   "metadata": {},
   "source": [
    "=> нет оснований отвергнуть гипотезу о нормальности"
   ]
  },
  {
   "cell_type": "markdown",
   "id": "95ba9ac2",
   "metadata": {},
   "source": [
    "**Колмогоров**"
   ]
  },
  {
   "cell_type": "markdown",
   "id": "36d29e12",
   "metadata": {},
   "source": [
    "1) Оценим тета1 и тета2 по выборке методом моментов"
   ]
  },
  {
   "cell_type": "code",
   "execution_count": 223,
   "id": "2461306a",
   "metadata": {},
   "outputs": [
    {
     "name": "stdout",
     "output_type": "stream",
     "text": [
      "оценка мат. ожидания: 4.77\n",
      "оценка дисперсии: 2.505414137423193\n"
     ]
    }
   ],
   "source": [
    "teta1_est = np.sum(x*kols)/N\n",
    "teta2_est = (np.sum(np.square(teta1_est - x)*kols)/N)**0.5\n",
    "print('оценка мат. ожидания: ', teta1_est, '\\nоценка дисперсии: ', teta2_est, sep = '')"
   ]
  },
  {
   "cell_type": "markdown",
   "id": "3506a4c2",
   "metadata": {},
   "source": [
    "2) Найдем оценку дельты"
   ]
  },
  {
   "cell_type": "code",
   "execution_count": 224,
   "id": "6553f1ba",
   "metadata": {},
   "outputs": [
    {
     "data": {
      "text/plain": [
       "array([0.  , 0.05, 0.13, 0.19, 0.31, 0.45, 0.63, 0.74, 0.8 , 0.93])"
      ]
     },
     "execution_count": 224,
     "metadata": {},
     "output_type": "execute_result"
    }
   ],
   "source": [
    "F_est(x)"
   ]
  },
  {
   "cell_type": "code",
   "execution_count": 225,
   "id": "cbbcbd53",
   "metadata": {},
   "outputs": [
    {
     "data": {
      "text/plain": [
       "array([0.02846311, 0.06619531, 0.13444862, 0.23994794, 0.37929442,\n",
       "       0.536572  , 0.68826443, 0.8132865 , 0.90133711, 0.95432736])"
      ]
     },
     "execution_count": 225,
     "metadata": {},
     "output_type": "execute_result"
    }
   ],
   "source": [
    "F = norm(teta1_est, teta2_est)\n",
    "F.cdf(x)"
   ]
  },
  {
   "cell_type": "code",
   "execution_count": 226,
   "id": "6ecd8648",
   "metadata": {},
   "outputs": [
    {
     "data": {
      "text/plain": [
       "1.013371112422481"
      ]
     },
     "execution_count": 226,
     "metadata": {},
     "output_type": "execute_result"
    }
   ],
   "source": [
    "delta_est = N**0.5 * np.max(abs(F_est(x) - F.cdf(x)))\n",
    "delta_est"
   ]
  },
  {
   "cell_type": "markdown",
   "id": "52c063d9",
   "metadata": {},
   "source": [
    "3) Bootstrap"
   ]
  },
  {
   "cell_type": "code",
   "execution_count": 227,
   "id": "e805dd7e",
   "metadata": {},
   "outputs": [
    {
     "data": {
      "text/plain": [
       "array([0, 0, 0, 0, 0, 1, 1, 1, 1, 1, 1, 1, 1, 2, 2, 2, 2, 2, 2, 3, 3, 3,\n",
       "       3, 3, 3, 3, 3, 3, 3, 3, 3, 4, 4, 4, 4, 4, 4, 4, 4, 4, 4, 4, 4, 4,\n",
       "       4, 5, 5, 5, 5, 5, 5, 5, 5, 5, 5, 5, 5, 5, 5, 5, 5, 5, 5, 6, 6, 6,\n",
       "       6, 6, 6, 6, 6, 6, 6, 6, 7, 7, 7, 7, 7, 7, 8, 8, 8, 8, 8, 8, 8, 8,\n",
       "       8, 8, 8, 8, 8, 9, 9, 9, 9, 9, 9, 9])"
      ]
     },
     "execution_count": 227,
     "metadata": {},
     "output_type": "execute_result"
    }
   ],
   "source": [
    "x_full = []\n",
    "for i in range(10):\n",
    "    x_full.extend([x[i] for j in range(kols[i])]) #for i in range(10)]\n",
    "x_full = np.array(x_full)\n",
    "x_full"
   ]
  },
  {
   "cell_type": "code",
   "execution_count": 228,
   "id": "71e0eff1",
   "metadata": {},
   "outputs": [],
   "source": [
    "delta_boot = np.zeros(10000)\n",
    "for i in range(10000):\n",
    "    y = np.array(random.sample((x_full).tolist(), N, counts = [100 for i in range(N)]))\n",
    "    teta1_boot = np.sum(y)/N\n",
    "    teta2_boot = (np.sum(np.square(teta1_boot - y))/N)**0.5\n",
    "    F = norm(teta1_boot, teta2_boot)\n",
    "    delta_boot[i] = N**0.5 * np.max(abs(F_est(x) - F.cdf(x)))"
   ]
  },
  {
   "cell_type": "code",
   "execution_count": 229,
   "id": "43b2f264",
   "metadata": {},
   "outputs": [
    {
     "data": {
      "text/plain": [
       "4590"
      ]
     },
     "execution_count": 229,
     "metadata": {},
     "output_type": "execute_result"
    }
   ],
   "source": [
    "k = sum(delta_boot < delta_est)+1\n",
    "k"
   ]
  },
  {
   "cell_type": "code",
   "execution_count": 230,
   "id": "7d0e9b1b",
   "metadata": {},
   "outputs": [
    {
     "data": {
      "text/plain": [
       "0.5411"
      ]
     },
     "execution_count": 230,
     "metadata": {},
     "output_type": "execute_result"
    }
   ],
   "source": [
    "p_value = 1 - (k-1)/10000\n",
    "p_value"
   ]
  },
  {
   "cell_type": "markdown",
   "id": "8aa8a5ca",
   "metadata": {},
   "source": [
    "=> нет оснований отвергнуть гипотезу о нормальности"
   ]
  },
  {
   "cell_type": "markdown",
   "id": "937dcd14",
   "metadata": {},
   "source": [
    "## c)"
   ]
  },
  {
   "cell_type": "code",
   "execution_count": 231,
   "id": "bdc61e82",
   "metadata": {},
   "outputs": [
    {
     "name": "stdout",
     "output_type": "stream",
     "text": [
      "оценка мат. ожидания: 4.77\n",
      "оценка дисперсии: 2.505414137423193\n"
     ]
    }
   ],
   "source": [
    "teta1_est = np.sum(x*kols)/N\n",
    "teta2_est = (np.sum(np.square(teta1_est - x)*kols)/N)**0.5\n",
    "print('оценка мат. ожидания: ', teta1_est, '\\nоценка дисперсии: ', teta2_est, sep = '')"
   ]
  },
  {
   "cell_type": "code",
   "execution_count": 232,
   "id": "eb6f30a7",
   "metadata": {},
   "outputs": [
    {
     "data": {
      "text/plain": [
       "array([ 4.41616821,  5.17552151,  8.65410163, 12.36537988, 15.09787008,\n",
       "       15.75250246, 14.04461048, 10.7002627 ,  6.96626253,  6.82732051])"
      ]
     },
     "execution_count": 232,
     "metadata": {},
     "output_type": "execute_result"
    }
   ],
   "source": [
    "p[0] = 0.5*(1 + math.erf((0+0.5-teta1_est)/(teta2_est*2**0.5))) - 0.5*(1 + math.erf((float('-inf')-teta1_est)/(teta2_est*2**0.5)))\n",
    "p[9] = 0.5*(1 + math.erf((float('inf')-teta1_est)/(teta2_est*2**0.5))) - 0.5*(1 + math.erf((9-0.5-teta1_est)/(teta2_est*2**0.5)))\n",
    "for k in range(1,9):\n",
    "    p[k] = 0.5*(1 + math.erf((k+0.5-teta1_est)/(teta2_est*2**0.5))) - 0.5*(1 + math.erf((k-0.5-teta1_est)/(teta2_est*2**0.5)))\n",
    "p*N"
   ]
  },
  {
   "cell_type": "markdown",
   "id": "496880df",
   "metadata": {},
   "source": [
    "(почти!) все $$np_{i} > 5 =>$$ не группируем"
   ]
  },
  {
   "cell_type": "code",
   "execution_count": 233,
   "id": "ab37cdd1",
   "metadata": {},
   "outputs": [
    {
     "data": {
      "text/plain": [
       "10.79897314049978"
      ]
     },
     "execution_count": 233,
     "metadata": {},
     "output_type": "execute_result"
    }
   ],
   "source": [
    "components = np.zeros(10)\n",
    "for i in range(10):\n",
    "    components[i] = (kols[i] - p[i]*N)**2 / (p[i]*N)\n",
    "delta_est = np.sum(components)\n",
    "delta_est"
   ]
  },
  {
   "cell_type": "markdown",
   "id": "6ead7ad0",
   "metadata": {},
   "source": [
    "Δ ~ χ^2(10-1-2) = χ^2(7)"
   ]
  },
  {
   "cell_type": "markdown",
   "id": "4f51f92c",
   "metadata": {},
   "source": [
    "p-value = P(Δ >= Δ_est|H0) ≈ 0.15"
   ]
  },
  {
   "cell_type": "markdown",
   "id": "c4b9bc79",
   "metadata": {},
   "source": [
    "=> нет оснований отвергнуть гипотезу о нормальности"
   ]
  },
  {
   "cell_type": "code",
   "execution_count": 285,
   "id": "ea8e05e0",
   "metadata": {},
   "outputs": [],
   "source": [
    "delta_boot = np.zeros(50000)\n",
    "for i in range(50000):\n",
    "    y = np.random.normal(teta1_est, teta2_est, N).astype(int)\n",
    "    counts = np.zeros(10)\n",
    "    for m in range(N):\n",
    "        for j in range(10):\n",
    "            if y[m] == j:\n",
    "                counts[j] += 1\n",
    "    \n",
    "    teta1_boot = np.sum(y)/N\n",
    "    teta2_boot = (np.sum(np.square(teta1_boot - y))/N)**0.5\n",
    "    \n",
    "    p[0] = 0.5*(1 + math.erf((0+0.5-teta1_boot)/(teta2_boot*2**0.5))) - 0.5*(1 + math.erf((float('-inf')-teta1_boot)/(teta2_boot*2**0.5)))\n",
    "    p[9] = 0.5*(1 + math.erf((float('inf')-teta1_boot)/(teta2_boot*2**0.5))) - 0.5*(1 + math.erf((9-0.5-teta1_boot)/(teta2_boot*2**0.5)))\n",
    "    for k in range(1,9):\n",
    "        p[k] = 0.5*(1 + math.erf((k+0.5-teta1_boot)/(teta2_boot*2**0.5))) - 0.5*(1 + math.erf((k-0.5-teta1_boot)/(teta2_boot*2**0.5)))\n",
    "    delta_boot[i] = np.sum(np.square(counts - N*p)/(N*p))"
   ]
  },
  {
   "cell_type": "code",
   "execution_count": 286,
   "id": "ab55e210",
   "metadata": {},
   "outputs": [
    {
     "data": {
      "text/plain": [
       "array([ 3.15342522, 30.56273779, 13.29412975,  6.66662341,  6.58078541,\n",
       "        8.95752686,  9.22728287,  5.20847793, 11.28503021,  7.46456893,\n",
       "       13.54520326, 11.98440049,  7.1385906 ,  4.63730079, 10.06842195,\n",
       "        6.16534336,  6.41735552,  6.61821258,  4.29218317, 17.15046688])"
      ]
     },
     "execution_count": 286,
     "metadata": {},
     "output_type": "execute_result"
    }
   ],
   "source": [
    "delta_boot[5000:5020]"
   ]
  },
  {
   "cell_type": "code",
   "execution_count": 289,
   "id": "454cb184",
   "metadata": {},
   "outputs": [
    {
     "data": {
      "text/plain": [
       "array([0.0000e+00, 0.0000e+00, 0.0000e+00, 6.0000e-05, 2.4000e-04,\n",
       "       8.2000e-04, 1.7600e-03, 3.2400e-03, 5.7600e-03, 9.6800e-03,\n",
       "       1.3940e-02, 1.9500e-02, 2.6320e-02, 3.4360e-02, 4.3240e-02,\n",
       "       5.3440e-02, 6.4900e-02, 7.9180e-02, 9.3680e-02, 1.0850e-01,\n",
       "       1.2552e-01, 1.4316e-01, 1.6258e-01, 1.8228e-01, 2.0302e-01,\n",
       "       2.2432e-01, 2.4580e-01, 2.6846e-01, 2.9096e-01, 3.1484e-01,\n",
       "       3.3634e-01, 3.5966e-01, 3.8240e-01, 4.0552e-01, 4.2834e-01,\n",
       "       4.5038e-01, 4.7292e-01, 4.9562e-01, 5.1684e-01, 5.3828e-01,\n",
       "       5.5896e-01, 5.7926e-01, 5.9764e-01, 6.1720e-01, 6.3530e-01,\n",
       "       6.5406e-01, 6.7164e-01, 6.8842e-01, 7.0580e-01, 7.2146e-01,\n",
       "       7.3562e-01, 7.5052e-01, 7.6320e-01, 7.7636e-01, 7.8882e-01,\n",
       "       8.0060e-01, 8.1246e-01, 8.2364e-01, 8.3490e-01, 8.4444e-01,\n",
       "       8.5392e-01, 8.6274e-01, 8.7116e-01, 8.7872e-01, 8.8576e-01,\n",
       "       8.9390e-01, 9.0026e-01, 9.0756e-01, 9.1366e-01, 9.1900e-01,\n",
       "       9.2384e-01, 9.2858e-01, 9.3290e-01, 9.3684e-01, 9.4124e-01,\n",
       "       9.4494e-01, 9.4826e-01, 9.5136e-01, 9.5420e-01, 9.5806e-01,\n",
       "       9.6082e-01, 9.6356e-01, 9.6572e-01, 9.6780e-01, 9.6972e-01,\n",
       "       9.7174e-01, 9.7332e-01, 9.7500e-01, 9.7670e-01, 9.7848e-01,\n",
       "       9.8008e-01, 9.8142e-01, 9.8274e-01, 9.8394e-01, 9.8510e-01,\n",
       "       9.8622e-01, 9.8738e-01, 9.8824e-01, 9.8908e-01, 9.8988e-01,\n",
       "       9.9048e-01, 9.9110e-01, 9.9164e-01, 9.9202e-01, 9.9242e-01,\n",
       "       9.9302e-01, 9.9352e-01, 9.9410e-01, 9.9462e-01, 9.9496e-01,\n",
       "       9.9532e-01, 9.9558e-01, 9.9592e-01, 9.9618e-01, 9.9646e-01,\n",
       "       9.9670e-01, 9.9692e-01, 9.9712e-01, 9.9720e-01, 9.9740e-01,\n",
       "       9.9758e-01, 9.9784e-01, 9.9798e-01, 9.9816e-01, 9.9832e-01])"
      ]
     },
     "execution_count": 289,
     "metadata": {},
     "output_type": "execute_result"
    }
   ],
   "source": [
    "boot = np.array([])\n",
    "for i in np.arange(0,25,0.2):\n",
    "    boot =  np.append(boot, sum(delta_boot < i)/50000)\n",
    "boot"
   ]
  },
  {
   "cell_type": "code",
   "execution_count": 291,
   "id": "708d290a",
   "metadata": {},
   "outputs": [
    {
     "data": {
      "image/png": "[encoded data removed]",
      "text/plain": [
       "<Figure size 720x504 with 1 Axes>"
      ]
     },
     "metadata": {
      "needs_background": "light"
     },
     "output_type": "display_data"
    }
   ],
   "source": [
    "ax = np.arange(0,25,0.2)\n",
    "plt.figure(figsize=(10,7))\n",
    "plt.plot(ax, boot, label=\"bootstrap\")\n",
    "plt.plot(ax, chi2.cdf(ax, df = 7), label = 'X^2(7)')\n",
    "plt.plot(ax, chi2.cdf(ax, df = 9), label = 'X^2(9)')\n",
    "plt.title(\"Сравнение распределений\")\n",
    "plt.legend()\n",
    "plt.show()"
   ]
  }
 ],
 "metadata": {
  "kernelspec": {
   "display_name": "Python 3 (ipykernel)",
   "language": "python",
   "name": "python3"
  },
  "language_info": {
   "codemirror_mode": {
    "name": "ipython",
    "version": 3
   },
   "file_extension": ".py",
   "mimetype": "text/x-python",
   "name": "python",
   "nbconvert_exporter": "python",
   "pygments_lexer": "ipython3",
   "version": "3.9.7"
  }
 },
 "nbformat": 4,
 "nbformat_minor": 5
}
